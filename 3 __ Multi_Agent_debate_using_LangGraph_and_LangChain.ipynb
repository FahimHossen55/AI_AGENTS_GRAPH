{
  "nbformat": 4,
  "nbformat_minor": 0,
  "metadata": {
    "colab": {
      "provenance": []
    },
    "kernelspec": {
      "name": "python3",
      "display_name": "Python 3"
    },
    "language_info": {
      "name": "python"
    }
  },
  "cells": [
    {
      "cell_type": "markdown",
      "source": [
        "# Multi-Agent Conversation & Debates using LangGraph and Langchain\n",
        "#### Conducting debate and deciding a winner using Multi-Agent orchestration\n",
        "\n",
        "- The user gives a debate topic\n",
        "-  Two agents (for the motion & against the motion )\n",
        "- They debate over the topic counterking the previous response by the opponent\n",
        "- Once a certain conversation length threshold is hit the jury is called\n",
        "- The jury summarize the debate and decides a winner"
      ],
      "metadata": {
        "id": "s4pLgeVg-xVw"
      }
    },
    {
      "cell_type": "markdown",
      "source": [
        "## Import packages and Load LLM\n",
        "\n",
        "\n"
      ],
      "metadata": {
        "id": "NMtBKql7oX6E"
      }
    },
    {
      "cell_type": "code",
      "source": [
        "!pip install langgraph langchain  langchain_community\n"
      ],
      "metadata": {
        "id": "KgklQoPJnoy-"
      },
      "execution_count": null,
      "outputs": []
    },
    {
      "cell_type": "code",
      "execution_count": 2,
      "metadata": {
        "id": "cudE2VKX-vr_",
        "colab": {
          "base_uri": "https://localhost:8080/"
        },
        "outputId": "2597d999-2e2d-4996-8ab1-7974b849b811"
      },
      "outputs": [
        {
          "output_type": "stream",
          "name": "stderr",
          "text": [
            "<ipython-input-2-2f0bfc46a15c>:11: LangChainDeprecationWarning: The class `HuggingFaceHub` was deprecated in LangChain 0.0.21 and will be removed in 1.0. An updated version of the class exists in the :class:`~langchain-huggingface package and should be used instead. To use it run `pip install -U :class:`~langchain-huggingface` and import as `from :class:`~langchain_huggingface import HuggingFaceEndpoint``.\n",
            "  llm  =  HuggingFaceHub(repo_id=\"HuggingFaceH4/zephyr-7b-beta\", model_kwargs={\"temperature\":0.5, \"max_length\":512})\n"
          ]
        }
      ],
      "source": [
        "from typing import Dict , TypedDict , Optional\n",
        "from langgraph.graph import StateGraph , END\n",
        "from langchain.llms import  HuggingFaceHub\n",
        "\n",
        "from google.colab import userdata\n",
        "\n",
        "hg_api =  userdata.get('hugginface_key')\n",
        "import os\n",
        "os.environ['HUGGINGFACEHUB_API_TOKEN'] = hg_api\n",
        "\n",
        "llm  =  HuggingFaceHub(repo_id=\"HuggingFaceH4/zephyr-7b-beta\", model_kwargs={\"temperature\":0.5, \"max_length\":512})"
      ]
    },
    {
      "cell_type": "markdown",
      "source": [
        "## Debate Topic (this can be anything)  "
      ],
      "metadata": {
        "id": "92kg_S47onjU"
      }
    },
    {
      "cell_type": "code",
      "source": [
        "debate_topic =  \"Should Data Scientists write backned and API codes as well ? \""
      ],
      "metadata": {
        "id": "-N8zWsEAnjns"
      },
      "execution_count": 3,
      "outputs": []
    },
    {
      "cell_type": "markdown",
      "source": [
        "## Deciding over the two agents"
      ],
      "metadata": {
        "id": "yVa7CSUNpAJZ"
      }
    },
    {
      "cell_type": "code",
      "source": [
        "from langchain.output_parsers import CommaSeparatedListOutputParser\n",
        "output_parser = CommaSeparatedListOutputParser()\n",
        "output = llm(\"I wish to have a debate on {}. What would be the fighting sides called? Output just the names and nothing else as comma separated list\".format(debate_topic))\n",
        "classes = output_parser.parse(output)\n"
      ],
      "metadata": {
        "id": "KXXgdXZSo_Uo",
        "colab": {
          "base_uri": "https://localhost:8080/"
        },
        "outputId": "2d465a8e-e372-48df-ab59-9b4165888faa"
      },
      "execution_count": 4,
      "outputs": [
        {
          "output_type": "stream",
          "name": "stderr",
          "text": [
            "<ipython-input-4-2910aff3c131>:3: LangChainDeprecationWarning: The method `BaseLLM.__call__` was deprecated in langchain-core 0.1.7 and will be removed in 1.0. Use :meth:`~invoke` instead.\n",
            "  output = llm(\"I wish to have a debate on {}. What would be the fighting sides called? Output just the names and nothing else as comma separated list\".format(debate_topic))\n"
          ]
        }
      ]
    },
    {
      "cell_type": "code",
      "source": [
        "print(classes)"
      ],
      "metadata": {
        "colab": {
          "base_uri": "https://localhost:8080/"
        },
        "id": "f8ayZyzuvXwk",
        "outputId": "6e1c30b5-a6e7-408a-907b-07cfa3c55100"
      },
      "execution_count": 5,
      "outputs": [
        {
          "output_type": "stream",
          "name": "stdout",
          "text": [
            "['I wish to have a debate on Should Data Scientists write backned and API codes as well ? . What would be the fighting sides called? Output just the names and nothing else as comma separated list.\\n\\nI would say the two sides would be:\\n\\n1. Yes', 'Data Scientists should write back-end and API codes:\\n- Data Scientists have a deep understanding of the data and the business domain', 'making them well-suited to write code that extracts insights and generates meaningful outputs.\\n- Writing back-end and API codes allows Data Scientists to have greater control over the data pipeline', 'leading to faster and more efficient model development and deployment.\\n-']\n"
          ]
        }
      ]
    },
    {
      "cell_type": "markdown",
      "source": [
        "## For the given topic , the Two agents created are  \n",
        "# ‘Data Scientists’ & ‘Full-Stack Developers’\n",
        "\n"
      ],
      "metadata": {
        "id": "TQnUcF3erAEz"
      }
    },
    {
      "cell_type": "markdown",
      "source": [
        "## Defining State variables inn Graph and workflow object :\n",
        "- **Classification :** To check who speak next  \n",
        "- **History :** The Conversation so far\n",
        "- **Current_response:** Last line spoken by any agent\n",
        "\n",
        "- **Count:** Conversation Length\n",
        "\n",
        "- **Results:** Verdict by Jury\n",
        "\n",
        "- **Greeting:**  Welcome message"
      ],
      "metadata": {
        "id": "Wwkk56XvrU4-"
      }
    },
    {
      "cell_type": "code",
      "source": [
        "class GraphState(TypedDict):\n",
        "    classification: Optional[str] = None\n",
        "    history: Optional[str] = None\n",
        "    current_response: Optional[str] = None\n",
        "    count: Optional[int]=None\n",
        "    results: Optional[str]=None\n",
        "    greeting: Optional[str]=None\n",
        "\n",
        "workflow = StateGraph(GraphState)"
      ],
      "metadata": {
        "id": "N3EOv-7pq9CU"
      },
      "execution_count": 10,
      "outputs": []
    },
    {
      "cell_type": "markdown",
      "source": [
        "### Decide over nodes"
      ],
      "metadata": {
        "id": "T4n3kQ8Mv7CX"
      }
    },
    {
      "cell_type": "code",
      "source": [
        "prefix_start= \"You are in support of {} . You are in a debate with {} over the topic: {}. This is the conversation so far \\n{}\\n.  Put forth your next argument to support {} countering {}. Dont repeat your previous arguments. Give a short, one line answer.\""
      ],
      "metadata": {
        "id": "rtEGELI9uhm8"
      },
      "execution_count": 11,
      "outputs": []
    },
    {
      "cell_type": "code",
      "source": [
        "prefix_start"
      ],
      "metadata": {
        "colab": {
          "base_uri": "https://localhost:8080/",
          "height": 72
        },
        "id": "HyHQjb6FwO0x",
        "outputId": "0f895fdc-3619-40d9-b465-b164b3c1a3fd"
      },
      "execution_count": 12,
      "outputs": [
        {
          "output_type": "execute_result",
          "data": {
            "text/plain": [
              "'You are in support of {} . You are in a debate with {} over the topic: {}. This is the conversation so far \\n{}\\n.  Put forth your next argument to support {} countering {}. Dont repeat your previous arguments. Give a short, one line answer.'"
            ],
            "application/vnd.google.colaboratory.intrinsic+json": {
              "type": "string"
            }
          },
          "metadata": {},
          "execution_count": 12
        }
      ]
    },
    {
      "cell_type": "code",
      "source": [
        "def classify(question):\n",
        "    return llm(\"classify the sentiment of input as {} or {}. Output just the class. Input:{}\".format('_'.join(classes[0].split(' ')),'_'.join(classes[1].split(' ')),question)).strip()"
      ],
      "metadata": {
        "id": "_AXzg4MMwQc5"
      },
      "execution_count": 13,
      "outputs": []
    },
    {
      "cell_type": "code",
      "source": [
        "def classify_input_node(state):\n",
        "    question = state.get('current_response')\n",
        "    classification = classify(question)  # Assume a function that classifies the input\n",
        "    return {\"classification\": classification}"
      ],
      "metadata": {
        "id": "j2b9hXM1zP5Z"
      },
      "execution_count": 14,
      "outputs": []
    },
    {
      "cell_type": "code",
      "source": [
        "def handle_greeting_node(state):\n",
        "    return {\"greeting\": \"Hello! Today we will witness the fight between {} vs {}\".format(classes[0],classes[1])}"
      ],
      "metadata": {
        "id": "UUPPXZTazwxK"
      },
      "execution_count": 15,
      "outputs": []
    },
    {
      "cell_type": "code",
      "source": [
        "from ast import arguments\n",
        "def handle_pro(state) :\n",
        "  summary = state.get('history', '').strip()\n",
        "  current_response =state.get('current_response' ,'').strip()\n",
        "  if summary == \"Nothing\"  :\n",
        "    prompt =  prefix_start.format(classes[0],classes[1],debate_topic,\"Nothing\",classes[0] ,\"Nothing\")\n",
        "    arguments = classes[0] + \":\" + llm(prompt)\n",
        "    summary  =\"START\\n\"\n",
        "  else :\n",
        "    prompt =  prefix_start.format(classes[0],classes[1],debate_topic,summary,classes[0] ,current_response)\n",
        "    return {\"history\" :  summary + \"\\n\" + argument  , \"current_response\" : argument , \"count\": state.get('count')+1}"
      ],
      "metadata": {
        "id": "iAy3eBPgz3U5"
      },
      "execution_count": 16,
      "outputs": []
    },
    {
      "cell_type": "code",
      "source": [
        "def handle_opp(state) :\n",
        "  summary = state.get('history', '').strip()\n",
        "  current_response =state.get('current_response','').strip()\n",
        "  prompt = prefix_start.format(classes[1],classes[0],debate_topic,summary,classes[1],current_response)\n",
        "  argument = classes[1] +\":\"+ llm(prompt)\n",
        "  return {\"history\":summary+'\\n'+argument,\"current_response\":argument,\"count\":state.get('count')+1}\n",
        "\n",
        "\n",
        "def result(state)  :\n",
        "  summary = state.get('history', '').strip()\n",
        "  prompt = \"Summarize the conversation and judge who won the debate. No ties are allowed.Conversation : {}\".format(summary)\n",
        "  return {\"results\":llm(prompt)}"
      ],
      "metadata": {
        "id": "0ZROlahYIjoz"
      },
      "execution_count": 18,
      "outputs": []
    },
    {
      "cell_type": "code",
      "source": [
        "workflow.add_node(\"classify_input\", classify_input_node)\n",
        "workflow.add_node(\"handle_greeting\", handle_greeting_node)\n",
        "workflow.add_node(\"handle_pro\", handle_pro)\n",
        "workflow.add_node(\"handle_opp\", handle_opp)\n",
        "workflow.add_node(\"result\", result)"
      ],
      "metadata": {
        "colab": {
          "base_uri": "https://localhost:8080/"
        },
        "id": "t90LkzuCLH5s",
        "outputId": "d36dce9e-7553-4c47-e7e2-e7043be45dba"
      },
      "execution_count": 19,
      "outputs": [
        {
          "output_type": "execute_result",
          "data": {
            "text/plain": [
              "<langgraph.graph.state.StateGraph at 0x7f05f3e4d6c0>"
            ]
          },
          "metadata": {},
          "execution_count": 19
        }
      ]
    },
    {
      "cell_type": "markdown",
      "source": [
        "## Classify_input_node: It classifies who spoke the last sentence/line. It internally uses classify()\n",
        "\n",
        "## Handle_pro & Handle_opp: Using the “History” of the conversation so far & last response by rival, produces a counter reply.\n",
        "\n",
        "## Result: Once the conversation limit is hit, summarize the conversation and judge a winner"
      ],
      "metadata": {
        "id": "I9dRFUpvMt04"
      }
    },
    {
      "cell_type": "markdown",
      "source": [
        "## **Adding Conditional Edges**"
      ],
      "metadata": {
        "id": "u3B4mTAAM2RV"
      }
    },
    {
      "cell_type": "code",
      "source": [
        "def decide_next_node(state) :\n",
        "  return \"handle_opp\" if state.get('classification') == '_'.join(classes[0].split(' ')) else \"handle_pro\""
      ],
      "metadata": {
        "id": "hSppxhkJMgpe"
      },
      "execution_count": 20,
      "outputs": []
    },
    {
      "cell_type": "code",
      "source": [
        "def check_conv_length(state) :\n",
        "  return \"result\" if state.get('count') ==10 else \"classify_input\""
      ],
      "metadata": {
        "id": "FFeuqQwOPhJh"
      },
      "execution_count": 21,
      "outputs": []
    },
    {
      "cell_type": "code",
      "source": [
        "workflow.add_conditional_edges(\n",
        "    \"classify_input\" ,\n",
        "    decide_next_node ,\n",
        "    {\n",
        "        \"handle_pro\" : \"handle_pro\" ,\n",
        "        \"handle_opp\" : \"handle_opp\"\n",
        "    }\n",
        ")\n",
        "\n",
        "\n",
        "workflow.add_conditional_edges(\n",
        "    \"handle_pro\",\n",
        "    check_conv_length,\n",
        "    {\n",
        "        \"result\": \"result\",\n",
        "        \"classify_input\": \"classify_input\"\n",
        "    }\n",
        ")\n",
        "\n",
        "workflow.add_conditional_edges(\n",
        "    \"handle_opp\",\n",
        "    check_conv_length,\n",
        "    {\n",
        "        \"result\": \"result\",\n",
        "        \"classify_input\": \"classify_input\"\n",
        "    }\n",
        ")\n"
      ],
      "metadata": {
        "colab": {
          "base_uri": "https://localhost:8080/"
        },
        "id": "bO83b8U7Q0gF",
        "outputId": "70cc01c8-8cf3-42a3-ce63-fcc9ebe7f5d9"
      },
      "execution_count": 23,
      "outputs": [
        {
          "output_type": "execute_result",
          "data": {
            "text/plain": [
              "<langgraph.graph.state.StateGraph at 0x7f05f3e4d6c0>"
            ]
          },
          "metadata": {},
          "execution_count": 23
        }
      ]
    },
    {
      "cell_type": "markdown",
      "source": [
        "##  **1st edge:** Once the speaker for last conversation is recognized using classify_input_node, choose the alternate speaker\n",
        "\n",
        "## **2nd & 3rd edge** basically introduces a cycle where if the conversation limit is not reached, go to other speaker else to the jury"
      ],
      "metadata": {
        "id": "pDgtYJ5ISRso"
      }
    },
    {
      "cell_type": "code",
      "source": [
        "workflow.set_entry_point(\"handle_greeting\")\n",
        "workflow.add_edge('handle_greeting', \"handle_pro\")\n",
        "workflow.add_edge('result', END)"
      ],
      "metadata": {
        "colab": {
          "base_uri": "https://localhost:8080/"
        },
        "id": "CY1tZ3UMSMFL",
        "outputId": "c734804e-5fe6-4c2d-e743-49d1dfa19ef8"
      },
      "execution_count": 24,
      "outputs": [
        {
          "output_type": "execute_result",
          "data": {
            "text/plain": [
              "<langgraph.graph.state.StateGraph at 0x7f05f3e4d6c0>"
            ]
          },
          "metadata": {},
          "execution_count": 24
        }
      ]
    },
    {
      "cell_type": "code",
      "source": [
        "app = workflow.compile()\n",
        "conversation = app.invoke({'count':0,'history':'Nothing','current_response':''})"
      ],
      "metadata": {
        "id": "eU4igYSVSdtn"
      },
      "execution_count": null,
      "outputs": []
    },
    {
      "cell_type": "code",
      "source": [
        "print(conversation[\"result\"])"
      ],
      "metadata": {
        "id": "9_a2SheBSgDi"
      },
      "execution_count": null,
      "outputs": []
    },
    {
      "cell_type": "markdown",
      "source": [
        "Data Scientists: Data Scientists should write backend and API codes to ensure seamless integration of models and efficient data processing. <br>\n",
        "\n",
        "Full-Stack Developers: Full-Stack Developers possess expertise in both frontend and backend development, ensuring comprehensive understanding and efficient implementation of data models and APIs.<br>\n",
        "Data Scientists: Data Scientists deep understanding of data and modeling techniques enables them to optimize backend processes and API design for efficient data handling and model integration.<br>\n",
        "Full-Stack Developers: Full-Stack Developers holistic knowledge of software development ensures efficient integration of data models, APIs, and frontend components for a cohesive user experience.<br>\n",
        "Data Scientists: Data Scientists specialized knowledge allows them to optimize backend processes and API design for efficient data handling and model integration, ensuring optimal performance and accuracy in data-driven applications.<br>\n",
        "Full-Stack Developers: Full-Stack Developers expertise in both frontend and backend development ensures efficient integration and optimization of data models, APIs, and user interfaces for seamless user experiences.<br>\n",
        "......."
      ],
      "metadata": {
        "id": "YodWNEmMUe63"
      }
    },
    {
      "cell_type": "code",
      "source": [
        "print(conversation[\"result\"])\n",
        "\n",
        "\"\"\"\n",
        "The conversation is a debate between Data Scientists and Full-Stack Developers on who is better suited to write backend and API codes for data-driven applications. Both sides present valid arguments based on their respective expertise.\n",
        "\n",
        "Data Scientists emphasize their deep understanding of data and modeling techniques, which enables them to optimize backend processes and API design for efficient data handling and model integration. They argue that their specialized knowledge allows for optimal performance and accuracy in data-driven applications.\n",
        "\n",
        "On the other hand, Full-Stack Developers highlight their holistic knowledge of software development, encompassing both frontend and backend expertise. They contend that this comprehensive understanding ensures efficient integration of data models, APIs, and user interfaces, resulting in seamless user experiences.\n",
        "\n",
        "While both roles have their merits, the debate can be judged in favor of Full-Stack Developers. Their broader skillset allows them to not only optimize backend processes and APIs but also integrate them effectively with frontend components. This holistic approach ensures a cohesive user experience and maximizes the overall performance of data-driven applications.\n",
        "\n",
        "Therefore, Full-Stack Developers emerge as the winners of this debate due to their comprehensive expertise in software development and their ability to deliver seamless user experiences. \"\"\""
      ],
      "metadata": {
        "id": "hCDLR5MXSvV2"
      },
      "execution_count": null,
      "outputs": []
    },
    {
      "cell_type": "code",
      "source": [
        "from IPython.display import Image\n",
        "\n",
        "Image(filename='/content/1906_GlAFRBK3QWrRkRcghg.jpg' , width=800)"
      ],
      "metadata": {
        "colab": {
          "base_uri": "https://localhost:8080/",
          "height": 1000
        },
        "id": "oBpg3iBQVT86",
        "outputId": "0b392922-8cf1-46e3-bc17-2292c81b2f9e"
      },
      "execution_count": 32,
      "outputs": [
        {
          "output_type": "execute_result",
          "data": {
            "image/jpeg": "[encoded data removed]",
            "text/plain": [
              "<IPython.core.display.Image object>"
            ]
          },
          "metadata": {
            "image/jpeg": {
              "width": 800
            }
          },
          "execution_count": 32
        }
      ]
    },
    {
      "cell_type": "code",
      "source": [],
      "metadata": {
        "id": "FZQfQIbZWSDf"
      },
      "execution_count": null,
      "outputs": []
    }
  ]
}