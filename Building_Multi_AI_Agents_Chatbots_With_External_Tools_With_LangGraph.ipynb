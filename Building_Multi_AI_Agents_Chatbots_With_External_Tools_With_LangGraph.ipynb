{
  "nbformat": 4,
  "nbformat_minor": 0,
  "metadata": {
    "colab": {
      "provenance": []
    },
    "kernelspec": {
      "name": "python3",
      "display_name": "Python 3"
    },
    "language_info": {
      "name": "python"
    }
  },
  "cells": [
    {
      "cell_type": "code",
      "execution_count": 1,
      "metadata": {
        "colab": {
          "base_uri": "https://localhost:8080/"
        },
        "id": "h9DN02-g1SUa",
        "outputId": "6c1d8dea-f893-47ea-d7e2-4ebb2359986e"
      },
      "outputs": [
        {
          "output_type": "stream",
          "name": "stdout",
          "text": [
            "Successfully installed dataclasses-json-0.6.7 groq-0.11.0 h11-0.14.0 httpcore-1.0.5 httpx-0.27.2 jsonpatch-1.33 jsonpointer-3.0.0 langchain-0.2.16 langchain-core-0.2.38 langchain-text-splitters-0.2.4 langchain_community-0.2.16 langchain_groq-0.1.9 langsmith-0.1.116 marshmallow-3.22.0 mypy-extensions-1.0.0 orjson-3.10.7 tenacity-8.5.0 typing-inspect-0.9.0\n"
          ]
        }
      ],
      "source": [
        "!pip install langchain langchain_community langsmith langchain_groq"
      ]
    },
    {
      "cell_type": "code",
      "source": [
        "from typing import Annotated\n",
        "from typing_extensions import TypedDict"
      ],
      "metadata": {
        "id": "1YK2aOeG1iNg"
      },
      "execution_count": 2,
      "outputs": []
    },
    {
      "cell_type": "code",
      "source": [
        "!pip install arxiv\n",
        "!pip install wikipedia"
      ],
      "metadata": {
        "id": "uhbyuq-74K8R"
      },
      "execution_count": null,
      "outputs": []
    },
    {
      "cell_type": "code",
      "source": [
        "## Working with  tools\n",
        "\n",
        "\n",
        "\n",
        "from langchain_community.utilities import ArxivAPIWrapper , WikipediaAPIWrapper\n",
        "from langchain_community.tools import ArxivQueryRun , WikipediaQueryRun\n",
        "\n",
        "## Arxiv and Wikipedia tools\n",
        "\n",
        "arxiv_wrapper =  ArxivAPIWrapper(top_k_results=1,doc_content_chars_max=300)\n",
        "arxiv_tool = ArxivQueryRun(arxiv_wrapper=arxiv_wrapper)\n"
      ],
      "metadata": {
        "id": "vb25Fdze20MB"
      },
      "execution_count": 9,
      "outputs": []
    },
    {
      "cell_type": "code",
      "source": [
        "arxiv_tool"
      ],
      "metadata": {
        "colab": {
          "base_uri": "https://localhost:8080/"
        },
        "id": "jsC1mjbV4cyb",
        "outputId": "287b07db-eff5-489c-c9b1-3ba5d90f26e5"
      },
      "execution_count": 10,
      "outputs": [
        {
          "output_type": "execute_result",
          "data": {
            "text/plain": [
              "ArxivQueryRun()"
            ]
          },
          "metadata": {},
          "execution_count": 10
        }
      ]
    },
    {
      "cell_type": "code",
      "source": [
        "wikipedia_wrapper = WikipediaAPIWrapper(top_k_results=1, doc_content_chars_max =300)\n",
        "wiki_tool = WikipediaQueryRun(api_wrapper=wikipedia_wrapper) # The parameter name has been corrected."
      ],
      "metadata": {
        "id": "QIcWq6Lo4dHH"
      },
      "execution_count": 18,
      "outputs": []
    },
    {
      "cell_type": "code",
      "source": [
        "wiki_tool"
      ],
      "metadata": {
        "colab": {
          "base_uri": "https://localhost:8080/"
        },
        "id": "KJteLunH4f7A",
        "outputId": "03b89e31-b986-4e23-fa52-aa8d708478d9"
      },
      "execution_count": 19,
      "outputs": [
        {
          "output_type": "execute_result",
          "data": {
            "text/plain": [
              "WikipediaQueryRun(api_wrapper=WikipediaAPIWrapper(wiki_client=<module 'wikipedia' from '/usr/local/lib/python3.10/dist-packages/wikipedia/__init__.py'>, top_k_results=1, lang='en', load_all_available_meta=False, doc_content_chars_max=300))"
            ]
          },
          "metadata": {},
          "execution_count": 19
        }
      ]
    },
    {
      "cell_type": "code",
      "source": [
        "wiki_tool.invoke(\"Who is the current president of the United States?\")"
      ],
      "metadata": {
        "colab": {
          "base_uri": "https://localhost:8080/",
          "height": 72
        },
        "id": "XSyxagfl5jr2",
        "outputId": "b5af4f7e-2d40-4cfd-ad69-c4e15db32ddc"
      },
      "execution_count": 21,
      "outputs": [
        {
          "output_type": "execute_result",
          "data": {
            "text/plain": [
              "'Page: List of actors who have played the president of the United States\\nSummary: This is a list of actors who have played the role of a real or fictitious president of the United States.'"
            ],
            "application/vnd.google.colaboratory.intrinsic+json": {
              "type": "string"
            }
          },
          "metadata": {},
          "execution_count": 21
        }
      ]
    },
    {
      "cell_type": "code",
      "source": [
        "arxiv_tool.invoke(\"attention all you need\")"
      ],
      "metadata": {
        "colab": {
          "base_uri": "https://localhost:8080/",
          "height": 218
        },
        "id": "HprnmKgL67JZ",
        "outputId": "827a1e63-e72f-4d2b-b99b-909a4decbf11"
      },
      "execution_count": 22,
      "outputs": [
        {
          "output_type": "execute_result",
          "data": {
            "text/plain": [
              "'Published: 2024-07-22\\nTitle: Attention Is All You Need But You Don\\'t Need All Of It For Inference of Large Language Models\\nAuthors: Georgy Tyukin, Gbetondji J-S Dovonon, Jean Kaddour, Pasquale Minervini\\nSummary: The inference demand for LLMs has skyrocketed in recent months, and serving\\nmodels with low latencies remains challenging due to the quadratic input length\\ncomplexity of the attention layers. In this work, we investigate the effect of\\ndropping MLP and attention layers at inference time on the performance of\\nLlama-v2 models. We find that dropping dreeper attention layers only marginally\\ndecreases performance but leads to the best speedups alongside dropping entire\\nlayers. For example, removing 33\\\\% of attention layers in a 13B Llama2 model\\nresults in a 1.8\\\\% drop in average performance over the OpenLLM benchmark. We\\nalso observe that skipping layers except the latter layers reduces performances\\nfor more layers skipped, except for skipping the attention layers.\\n\\nPublished: 2023-03-02\\nTitle: Methods used in nanostructure modeling\\nAuthors: I. Camps\\nSummary: How many times you need to change your method description because you were\\n\"accused\" of plagiarism from text you already published? I will use this\\npreprint to add all the methods I currently used in running the simulations for\\nmy research works. Then, I will cite it as needed.\\n\\nPublished: 2021-07-16\\nTitle: All the attention you need: Global-local, spatial-channel attention for image retrieval\\nAuthors: Chull Hwan Song, Hye Joo Han, Yannis Avrithis\\nSummary: We address representation learning for large-scale instance-level image\\nretrieval. Apart from backbone, training pipelines and loss functions, popular\\napproaches have focused on different spatial pooling and attention mechanisms,\\nwhich are at the core of learning a powerful global image representation. There\\nare different forms of attention according to the interaction of elements of\\nthe feature tensor (local and global) and the dimensions where it is applied\\n(spatial and channel). Unfortunately, each study addresses only one or two\\nforms of attention and applies it to different problems like classification,\\ndetection or retrieval.\\n  We present global-local attention module (GLAM), which is attached at the end\\nof a backbone network and incorporates all four forms of attention: local and\\nglobal, spatial and channel. We obtain a new feature tensor and, by spatial\\npooling, we learn a powerful embedding for image retrieval. Focusing on global\\ndescriptors, we provide empirical evidence of the interaction of all forms of\\nattention and improve the state of the art on standard benchmarks.'"
            ],
            "application/vnd.google.colaboratory.intrinsic+json": {
              "type": "string"
            }
          },
          "metadata": {},
          "execution_count": 22
        }
      ]
    },
    {
      "cell_type": "code",
      "source": [
        "tools = [wiki_tool]"
      ],
      "metadata": {
        "id": "GbxFt3zw7Gx8"
      },
      "execution_count": 25,
      "outputs": []
    },
    {
      "cell_type": "code",
      "source": [
        "!pip install langgraph"
      ],
      "metadata": {
        "id": "CJY6hB3d8fi1"
      },
      "execution_count": null,
      "outputs": []
    },
    {
      "cell_type": "code",
      "source": [
        "# langgraph Application\n",
        "\n",
        "from langgraph.graph.message import add_messages\n",
        "\n",
        "class State(TypedDict) :\n",
        "   messages : Annotated[list , add_messages]"
      ],
      "metadata": {
        "id": "rGcorREW76M8"
      },
      "execution_count": 32,
      "outputs": []
    },
    {
      "cell_type": "code",
      "source": [
        "from langgraph.graph import StateGraph , START , END"
      ],
      "metadata": {
        "id": "EDb1koa98J2o"
      },
      "execution_count": 33,
      "outputs": []
    },
    {
      "cell_type": "code",
      "source": [
        "graphbuilder =  StateGraph(State)\n",
        "\n"
      ],
      "metadata": {
        "id": "-TrGpX-n9VvC"
      },
      "execution_count": 34,
      "outputs": []
    },
    {
      "cell_type": "code",
      "source": [
        "from  langchain_groq import ChatGroq\n"
      ],
      "metadata": {
        "id": "3UBXotNx99IT"
      },
      "execution_count": 35,
      "outputs": []
    },
    {
      "cell_type": "code",
      "source": [
        "from google.colab import userdata\n",
        "groq = userdata.get(\"groq_api\")"
      ],
      "metadata": {
        "id": "tiAM28OG-PjC"
      },
      "execution_count": 38,
      "outputs": []
    },
    {
      "cell_type": "code",
      "source": [
        "llm =  ChatGroq(groq_api_key = groq , model= \"gemma-7b-it\" )"
      ],
      "metadata": {
        "id": "wAIYzLVq-GS4"
      },
      "execution_count": 40,
      "outputs": []
    },
    {
      "cell_type": "code",
      "source": [
        "llm.invoke(\"who is the current predent of USA\")"
      ],
      "metadata": {
        "colab": {
          "base_uri": "https://localhost:8080/"
        },
        "id": "ps9upYJl-Ic2",
        "outputId": "1ea05e88-15f5-4bd2-e852-a9294b5ea1ea"
      },
      "execution_count": 41,
      "outputs": [
        {
          "output_type": "execute_result",
          "data": {
            "text/plain": [
              "AIMessage(content='As of today, **Joe Biden** is the current President of the United States.', response_metadata={'token_usage': {'completion_tokens': 18, 'prompt_tokens': 17, 'total_tokens': 35, 'completion_time': 0.019137565, 'prompt_time': 0.011061086, 'queue_time': 0.003332304000000001, 'total_time': 0.030198651}, 'model_name': 'gemma-7b-it', 'system_fingerprint': 'fp_7d8efeb0b1', 'finish_reason': 'stop', 'logprobs': None}, id='run-cae82882-864e-46de-9356-bee3ba7f5a09-0', usage_metadata={'input_tokens': 17, 'output_tokens': 18, 'total_tokens': 35})"
            ]
          },
          "metadata": {},
          "execution_count": 41
        }
      ]
    },
    {
      "cell_type": "code",
      "source": [
        "llm.bind(tools=tools)"
      ],
      "metadata": {
        "colab": {
          "base_uri": "https://localhost:8080/"
        },
        "id": "KqamnZspEvPh",
        "outputId": "75cf0da9-fb66-4752-f36e-6bfd936e7a2c"
      },
      "execution_count": 53,
      "outputs": [
        {
          "output_type": "execute_result",
          "data": {
            "text/plain": [
              "RunnableBinding(bound=ChatGroq(client=<groq.resources.chat.completions.Completions object at 0x7f03d3c27fd0>, async_client=<groq.resources.chat.completions.AsyncCompletions object at 0x7f03d3c2f730>, model_name='gemma-7b-it', groq_api_key=SecretStr('**********')), kwargs={'tools': [WikipediaQueryRun(api_wrapper=WikipediaAPIWrapper(wiki_client=<module 'wikipedia' from '/usr/local/lib/python3.10/dist-packages/wikipedia/__init__.py'>, top_k_results=1, lang='en', load_all_available_meta=False, doc_content_chars_max=300))]})"
            ]
          },
          "metadata": {},
          "execution_count": 53
        }
      ]
    },
    {
      "cell_type": "code",
      "source": [
        "def chatbot(state:State) :\n",
        "  return {\"messages\" : [llm.invoke(state[\"messages\"])]}"
      ],
      "metadata": {
        "id": "ozP5HKdDAWvX"
      },
      "execution_count": 56,
      "outputs": []
    },
    {
      "cell_type": "code",
      "source": [
        "graphbuilder.add_node(\"chatbot\" , chatbot)\n"
      ],
      "metadata": {
        "id": "BGmVZ4HHD9t9"
      },
      "execution_count": null,
      "outputs": []
    },
    {
      "cell_type": "code",
      "source": [
        "graphbuilder.add_edge(START , \"chatbot\")\n"
      ],
      "metadata": {
        "id": "o_0_V8HjE1NG"
      },
      "execution_count": 60,
      "outputs": []
    },
    {
      "cell_type": "code",
      "source": [
        "!pip install --upgrade langgraph"
      ],
      "metadata": {
        "id": "nfznQVyaGTDy"
      },
      "execution_count": null,
      "outputs": []
    },
    {
      "cell_type": "code",
      "source": [
        "from langgraph.prebuilt import ToolNode,tools_condition"
      ],
      "metadata": {
        "id": "7_DcSw9JFzUI"
      },
      "execution_count": 68,
      "outputs": []
    },
    {
      "cell_type": "code",
      "source": [
        "tool_node =  ToolNode(tools=tools)\n",
        "graphbuilder.add_node(\"tool_node\" , tool_node)\n"
      ],
      "metadata": {
        "id": "TA3H-5eFGE_R"
      },
      "execution_count": null,
      "outputs": []
    },
    {
      "cell_type": "code",
      "source": [
        "graphbuilder.add_conditional_edges(\"chatbot\" ,\n",
        "                                   tools_condition)"
      ],
      "metadata": {
        "id": "YsBgkBh6IA9I"
      },
      "execution_count": 72,
      "outputs": []
    },
    {
      "cell_type": "code",
      "source": [
        "graphbuilder.add_edge(\"tool_node\" , \"chatbot\")\n",
        "graphbuilder.add_edge(\"chatbot\" , END)"
      ],
      "metadata": {
        "id": "FQX3Wg9OI1H9"
      },
      "execution_count": 73,
      "outputs": []
    },
    {
      "cell_type": "code",
      "source": [
        "graphbuilder"
      ],
      "metadata": {
        "colab": {
          "base_uri": "https://localhost:8080/"
        },
        "id": "8LPXS7qMJKxc",
        "outputId": "19127dab-df1b-4ada-969b-189270292c64"
      },
      "execution_count": 74,
      "outputs": [
        {
          "output_type": "execute_result",
          "data": {
            "text/plain": [
              "<langgraph.graph.state.StateGraph at 0x7f03d3d0d6f0>"
            ]
          },
          "metadata": {},
          "execution_count": 74
        }
      ]
    },
    {
      "cell_type": "code",
      "source": [
        "graph = graphbuilder.compile()"
      ],
      "metadata": {
        "id": "68wERKrMJNHE"
      },
      "execution_count": 75,
      "outputs": []
    },
    {
      "cell_type": "code",
      "source": [
        "from IPython.display import Image, display\n",
        "\n",
        "try:\n",
        "    display(Image(graph.get_graph().draw_mermaid_png()))\n",
        "except Exception:\n",
        "    # This requires some extra dependencies and is optional\n",
        "    pass"
      ],
      "metadata": {
        "colab": {
          "base_uri": "https://localhost:8080/",
          "height": 266
        },
        "id": "66P_KLdDJYhn",
        "outputId": "ae42d854-562f-476f-de37-1ca7605f7f92"
      },
      "execution_count": 76,
      "outputs": [
        {
          "output_type": "display_data",
          "data": {
            "image/jpeg": "[encoded data removed]",
            "text/plain": [
              "<IPython.core.display.Image object>"
            ]
          },
          "metadata": {}
        }
      ]
    },
    {
      "cell_type": "code",
      "source": [
        "user_input = \"Hi there  , my name is fahim\""
      ],
      "metadata": {
        "id": "XSffwZZiJci7"
      },
      "execution_count": 77,
      "outputs": []
    },
    {
      "cell_type": "code",
      "source": [
        "events = graph.stream(\n",
        "\n",
        "        {'messages' : [(\"user\" , user_input)]} , stream_mode = \"values\"\n",
        "\n",
        ")"
      ],
      "metadata": {
        "id": "yIqBzyvxJlId"
      },
      "execution_count": 79,
      "outputs": []
    },
    {
      "cell_type": "code",
      "source": [
        "for event in events  :\n",
        "  event[\"messages\"][-1].pretty_print()"
      ],
      "metadata": {
        "id": "r6mSgHinJ2ky"
      },
      "execution_count": 85,
      "outputs": []
    },
    {
      "cell_type": "code",
      "source": [
        "for event in events  :\n",
        "  event[\"messages\"][-1].pretty_print()"
      ],
      "metadata": {
        "id": "hIZXEWqRKBDj"
      },
      "execution_count": 86,
      "outputs": []
    },
    {
      "cell_type": "code",
      "source": [
        "user_input=\"tell me about llm model \"\n",
        "\n",
        "events=graph.stream(\n",
        "     {\"messages\": [(\"user\", user_input)]},stream_mode=\"values\"\n",
        ")\n",
        "\n",
        "for event in events:\n",
        "  event[\"messages\"][-1].pretty_print()"
      ],
      "metadata": {
        "colab": {
          "base_uri": "https://localhost:8080/"
        },
        "id": "zJYUaWSvKMMH",
        "outputId": "1a31c17c-9890-4516-b299-4fcfc3cec48a"
      },
      "execution_count": 87,
      "outputs": [
        {
          "output_type": "stream",
          "name": "stdout",
          "text": [
            "================================\u001b[1m Human Message \u001b[0m=================================\n",
            "\n",
            "tell me about llm model \n",
            "==================================\u001b[1m Ai Message \u001b[0m==================================\n",
            "\n",
            "**LLM (Large Language Model)**\n",
            "\n",
            "LLM (Large Language Model) is a type of statistical language model that can generate human-quality text, translate languages, summarize documents, and answer open-ended questions. These models are trained on massive datasets of text and code, allowing them to learn the patterns and relationships between words and concepts.\n",
            "\n",
            "**Architecture:**\n",
            "\n",
            "LLM models are based on Transformer neural networks, which rely on attention mechanisms to capture the relationships between words in a sentence. The model learns to predict the next word in a sequence given the preceding words.\n",
            "\n",
            "**Key Features:**\n",
            "\n",
            "- **Generative:** LLMs can generate new text, stories, and code.\n",
            "- **Translational:** They can translate languages with high accuracy.\n",
            "- **Summarizing:** LLMs can summarize long documents into concise summaries.\n",
            "- **Question-answering:** They can answer open-ended questions based on the text they have been trained on.\n",
            "- **Contextual understanding:** LLMs can understand the context and intent of a conversation.\n",
            "\n",
            "**Popular LLM Models:**\n",
            "\n",
            "- **GPT-3:** A large language model developed by Google.\n",
            "- **DALL-E:** A model that can generate images from textual descriptions.\n",
            "- **ChatGPT:** A conversational AI that can engage in human-like conversations.\n",
            "- **Code-LLM:** A model that can generate and understand code.\n",
            "\n",
            "**Applications:**\n",
            "\n",
            "LLMs have numerous applications in various industries, including:\n",
            "\n",
            "- **Content creation:** Writing stories, articles, and marketing materials.\n",
            "- **Customer service automation:** Providing automated responses to customer inquiries.\n",
            "- **Translation:** Translating documents and conversations in real-time.\n",
            "- **Summarization:** Summarizing news articles and research papers.\n",
            "- **Code generation:** Generating code from natural language descriptions.\n",
            "\n",
            "**Limitations:**\n",
            "\n",
            "- **Bias:** LLMs can inherit biases from the training data.\n",
            "- **Lack of common sense:** They may generate nonsensical or illogical output.\n",
            "- **Ethical concerns:** The use of LLMs raises ethical considerations related to privacy and bias.\n",
            "\n",
            "**Future Directions:**\n",
            "\n",
            "LLMs are constantly evolving and improving. Future models are expected to be more accurate, creative, and impactful. LLMs have the potential to revolutionize various industries and enhance human capabilities.\n"
          ]
        }
      ]
    },
    {
      "cell_type": "code",
      "source": [],
      "metadata": {
        "id": "-dOYFvI1KYUR"
      },
      "execution_count": null,
      "outputs": []
    }
  ]
}