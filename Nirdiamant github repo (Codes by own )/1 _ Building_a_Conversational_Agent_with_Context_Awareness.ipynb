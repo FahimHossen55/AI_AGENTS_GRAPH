{
  "nbformat": 4,
  "nbformat_minor": 0,
  "metadata": {
    "colab": {
      "provenance": []
    },
    "kernelspec": {
      "name": "python3",
      "display_name": "Python 3"
    },
    "language_info": {
      "name": "python"
    }
  },
  "cells": [
    {
      "cell_type": "markdown",
      "source": [
        "# **Building a Conversational Agent with Context Awareness**\n",
        "##  Overview\n",
        "This Code outlines the process of creating a conversational agent that maintains context across multiple interactions. We'll use a modern AI framework to build an agent capable of engaging in more natural and coherent conversations.\n",
        "## Motivation\n",
        "Many simple chatbots lack the ability to maintain context, leading to disjointed and frustrating user experiences. This tutorial aims to solve that problem by implementing a conversational agent that can remember and refer to previous parts of the conversation, enhancing the overall interaction quality.\n",
        "\n",
        "## **Key Components**  \n",
        " 1. **Language Model:** The core AI component that generates responses.\n",
        " 2. **Prompt Template:** Defines the structure of our conversations.\n",
        " 3. **History Manager:** Manages conversation history and context.\n",
        " 4. **Message Store:**  Stores the messages for each conversation session.\n",
        "\n",
        "# **Method Details**\n",
        "## Setting Up the Environment\n",
        "  Begin by setting up the necessary AI framework and ensuring access to a suitable language model. This forms the foundation of our conversational agent.\n",
        "## Defining the Conversation Structure\n",
        "  Create a template that includes:\n",
        "\n",
        " - A system message defining the AI's role\n",
        " - A placeholder for conversation history\n",
        " - The user's input\n",
        "\n",
        " This structure guides the AI's responses and maintains consistency throughout the conversation.\n",
        "\n",
        "## **Building the Conversational Chain**\n",
        "Combine the prompt template with the language model to create a basic conversational chain. Wrap this chain with a history management component that automatically handles the insertion and retrieval of conversation history.  \n",
        "\n",
        "## Interacting with the Agent\n",
        "To use the agent, invoke it with a user input and a session identifier. The history manager takes care of retrieving the appropriate conversation history, inserting it into the prompt, and storing new messages after each interaction.\n",
        "# Conclusion\n",
        "This approach to creating a conversational agent offers several advantages:\n",
        "\n",
        "- **Context Awareness:** The agent can refer to previous parts of the conversation, leading to more natural interactions.\n",
        "- **Simplicity:** The modular design keeps the implementation straightforward.\n",
        "- **Flexibility:** It's easy to modify the conversation structure or switch to a different language model.\n",
        "- **Scalability:** The session-based approach allows for managing multiple independent conversations.\n",
        "\n",
        "With this foundation, you can further enhance the agent by:\n",
        "\n",
        "- Implementing more sophisticated prompt engineering\n",
        "- Integrating it with external knowledge bases\n",
        "- Adding specialized capabilities for specific domains\n",
        "- Incorporating error handling and conversation repair strategies\n",
        "\n",
        "By focusing on context management, this conversational agent design significantly improves upon basic chatbot functionality, paving the way for more engaging and helpful AI assistants."
      ],
      "metadata": {
        "id": "bMDBWWlqN1-p"
      }
    },
    {
      "cell_type": "markdown",
      "source": [
        "## Import required libraries\n"
      ],
      "metadata": {
        "id": "xs_JI0Y1Rr5D"
      }
    },
    {
      "cell_type": "code",
      "execution_count": null,
      "metadata": {
        "id": "gGzL1q-iLIMh"
      },
      "outputs": [],
      "source": [
        "!pip install langchain langchain_community langchain_core"
      ]
    },
    {
      "cell_type": "code",
      "source": [
        "from langchain.llms import  HuggingFaceHub\n",
        "from langchain_core.runnables.history import RunnableWithMessageHistory\n",
        "from langchain.memory import ChatMessageHistory\n",
        "from langchain_core.prompts import ChatPromptTemplate, MessagesPlaceholder\n",
        "import os\n",
        "from dotenv import load_dotenv\n",
        "from google.colab import userdata\n",
        "os.environ[\"HUGGINGFACEHUB_API_TOKEN\"] = userdata.get('hugginface_key')"
      ],
      "metadata": {
        "id": "WXTc9XPuR6lf"
      },
      "execution_count": 3,
      "outputs": []
    },
    {
      "cell_type": "markdown",
      "source": [
        "## **Load environment variables and initialize the language model**"
      ],
      "metadata": {
        "id": "m5fPd2VbS9KZ"
      }
    },
    {
      "cell_type": "code",
      "source": [
        "load_dotenv()\n",
        "llm  =  HuggingFaceHub(repo_id=\"HuggingFaceH4/zephyr-7b-beta\",\n",
        "                       model_kwargs={\"temperature\":0.5, \"max_length\":512})\n"
      ],
      "metadata": {
        "id": "W-f77g9ESc1b",
        "colab": {
          "base_uri": "https://localhost:8080/"
        },
        "outputId": "e549915f-0214-4a81-b842-eaf9201b8b20"
      },
      "execution_count": 4,
      "outputs": [
        {
          "output_type": "stream",
          "name": "stderr",
          "text": [
            "<ipython-input-4-c4462cf3fbeb>:2: LangChainDeprecationWarning: The class `HuggingFaceHub` was deprecated in LangChain 0.0.21 and will be removed in 1.0. An updated version of the class exists in the :class:`~langchain-huggingface package and should be used instead. To use it run `pip install -U :class:`~langchain-huggingface` and import as `from :class:`~langchain_huggingface import HuggingFaceEndpoint``.\n",
            "  llm  =  HuggingFaceHub(repo_id=\"HuggingFaceH4/zephyr-7b-beta\",\n"
          ]
        }
      ]
    },
    {
      "cell_type": "markdown",
      "source": [
        "### Create a simple in-memory store for chat histories\n"
      ],
      "metadata": {
        "id": "tWExqxIdTcv8"
      }
    },
    {
      "cell_type": "code",
      "source": [
        "store = {}\n",
        "def get_chat_history(session_id: str) :\n",
        "    if session_id not in store:\n",
        "        store[session_id] = ChatMessageHistory()\n",
        "    return store[session_id]\n"
      ],
      "metadata": {
        "id": "1IrlaEdXTOU0"
      },
      "execution_count": 5,
      "outputs": []
    },
    {
      "cell_type": "markdown",
      "source": [
        "### Create the prompt template\n"
      ],
      "metadata": {
        "id": "FxtrJfPjTusz"
      }
    },
    {
      "cell_type": "code",
      "source": [
        "prompt = ChatPromptTemplate.from_messages([\n",
        "    (\"system\", \"You are a helpful AI assistant.\"),\n",
        "    MessagesPlaceholder(variable_name=\"history\"),\n",
        "    (\"human\", \"{input}\")\n",
        "])"
      ],
      "metadata": {
        "id": "E2KhfZ0qTtE-"
      },
      "execution_count": 31,
      "outputs": []
    },
    {
      "cell_type": "code",
      "source": [
        "prompt"
      ],
      "metadata": {
        "colab": {
          "base_uri": "https://localhost:8080/"
        },
        "id": "YZcM9ulWUSLU",
        "outputId": "702ef96c-bb8f-4910-b445-ded51b7bb964"
      },
      "execution_count": 32,
      "outputs": [
        {
          "output_type": "execute_result",
          "data": {
            "text/plain": [
              "ChatPromptTemplate(input_variables=['history', 'input'], input_types={'history': list[typing.Annotated[typing.Union[typing.Annotated[langchain_core.messages.ai.AIMessage, Tag(tag='ai')], typing.Annotated[langchain_core.messages.human.HumanMessage, Tag(tag='human')], typing.Annotated[langchain_core.messages.chat.ChatMessage, Tag(tag='chat')], typing.Annotated[langchain_core.messages.system.SystemMessage, Tag(tag='system')], typing.Annotated[langchain_core.messages.function.FunctionMessage, Tag(tag='function')], typing.Annotated[langchain_core.messages.tool.ToolMessage, Tag(tag='tool')], typing.Annotated[langchain_core.messages.ai.AIMessageChunk, Tag(tag='AIMessageChunk')], typing.Annotated[langchain_core.messages.human.HumanMessageChunk, Tag(tag='HumanMessageChunk')], typing.Annotated[langchain_core.messages.chat.ChatMessageChunk, Tag(tag='ChatMessageChunk')], typing.Annotated[langchain_core.messages.system.SystemMessageChunk, Tag(tag='SystemMessageChunk')], typing.Annotated[langchain_core.messages.function.FunctionMessageChunk, Tag(tag='FunctionMessageChunk')], typing.Annotated[langchain_core.messages.tool.ToolMessageChunk, Tag(tag='ToolMessageChunk')]], FieldInfo(annotation=NoneType, required=True, discriminator=Discriminator(discriminator=<function _get_type at 0x7edeef7f8940>, custom_error_type=None, custom_error_message=None, custom_error_context=None))]]}, partial_variables={}, messages=[SystemMessagePromptTemplate(prompt=PromptTemplate(input_variables=[], input_types={}, partial_variables={}, template='You are a helpful AI assistant.'), additional_kwargs={}), MessagesPlaceholder(variable_name='history'), HumanMessagePromptTemplate(prompt=PromptTemplate(input_variables=['input'], input_types={}, partial_variables={}, template='{input}'), additional_kwargs={})])"
            ]
          },
          "metadata": {},
          "execution_count": 32
        }
      ]
    },
    {
      "cell_type": "markdown",
      "source": [
        "# **Combine the prompt and model into a runnable chain**\n"
      ],
      "metadata": {
        "id": "Tve7IYs-UWfb"
      }
    },
    {
      "cell_type": "code",
      "source": [
        "chain = prompt | llm"
      ],
      "metadata": {
        "id": "AhMsxGCWUTwk"
      },
      "execution_count": 8,
      "outputs": []
    },
    {
      "cell_type": "code",
      "source": [
        "chain"
      ],
      "metadata": {
        "colab": {
          "base_uri": "https://localhost:8080/"
        },
        "id": "-LOiZe9dUbWs",
        "outputId": "d938898e-62f6-4c61-81d4-ec9b6965f47a"
      },
      "execution_count": 9,
      "outputs": [
        {
          "output_type": "execute_result",
          "data": {
            "text/plain": [
              "ChatPromptTemplate(input_variables=['history', 'input'], input_types={'history': list[typing.Annotated[typing.Union[typing.Annotated[langchain_core.messages.ai.AIMessage, Tag(tag='ai')], typing.Annotated[langchain_core.messages.human.HumanMessage, Tag(tag='human')], typing.Annotated[langchain_core.messages.chat.ChatMessage, Tag(tag='chat')], typing.Annotated[langchain_core.messages.system.SystemMessage, Tag(tag='system')], typing.Annotated[langchain_core.messages.function.FunctionMessage, Tag(tag='function')], typing.Annotated[langchain_core.messages.tool.ToolMessage, Tag(tag='tool')], typing.Annotated[langchain_core.messages.ai.AIMessageChunk, Tag(tag='AIMessageChunk')], typing.Annotated[langchain_core.messages.human.HumanMessageChunk, Tag(tag='HumanMessageChunk')], typing.Annotated[langchain_core.messages.chat.ChatMessageChunk, Tag(tag='ChatMessageChunk')], typing.Annotated[langchain_core.messages.system.SystemMessageChunk, Tag(tag='SystemMessageChunk')], typing.Annotated[langchain_core.messages.function.FunctionMessageChunk, Tag(tag='FunctionMessageChunk')], typing.Annotated[langchain_core.messages.tool.ToolMessageChunk, Tag(tag='ToolMessageChunk')]], FieldInfo(annotation=NoneType, required=True, discriminator=Discriminator(discriminator=<function _get_type at 0x7edeef7f8940>, custom_error_type=None, custom_error_message=None, custom_error_context=None))]]}, partial_variables={}, messages=[SystemMessagePromptTemplate(prompt=PromptTemplate(input_variables=[], input_types={}, partial_variables={}, template='You are a helpful AI assistant.'), additional_kwargs={}), MessagesPlaceholder(variable_name='history'), HumanMessagePromptTemplate(prompt=PromptTemplate(input_variables=['input'], input_types={}, partial_variables={}, template='{input}'), additional_kwargs={})])\n",
              "| HuggingFaceHub(client=<InferenceClient(model='HuggingFaceH4/zephyr-7b-beta', timeout=None)>, repo_id='HuggingFaceH4/zephyr-7b-beta', task='text-generation', model_kwargs={'temperature': 0.5, 'max_length': 512})"
            ]
          },
          "metadata": {},
          "execution_count": 9
        }
      ]
    },
    {
      "cell_type": "markdown",
      "source": [
        "## Wrap the chain with message history\n"
      ],
      "metadata": {
        "id": "Grpl9bx-UgU9"
      }
    },
    {
      "cell_type": "code",
      "source": [
        "\n",
        "chain_with_history = RunnableWithMessageHistory(\n",
        "    chain ,\n",
        "    get_chat_history,\n",
        "    input_messages_key=\"input\",\n",
        "    output_messages_key=\"history\"\n",
        ")"
      ],
      "metadata": {
        "id": "Yx0gq0-5UdcI"
      },
      "execution_count": 10,
      "outputs": []
    },
    {
      "cell_type": "markdown",
      "source": [
        "## Example usage\n"
      ],
      "metadata": {
        "id": "o3_jU5ANYGKG"
      }
    },
    {
      "cell_type": "code",
      "source": [
        "session_id = \"user_123\"\n",
        "\n",
        "\n",
        "response1 = chain_with_history.invoke(\n",
        "    {\"input\": \"Hello! How are you?\"},\n",
        "    config={\"configurable\": {\"session_id\": session_id}}\n",
        ")\n",
        "print(\"AI:\", response1[\"Human\"])\n",
        "\n",
        "response2 = chain_with_history.invoke(\n",
        "    {\"input\": \"What was my previous message?\"},\n",
        "    config={\"configurable\": {\"session_id\": session_id}}\n",
        ")\n",
        "print(\"AI:\", response2[\"Human\"])"
      ],
      "metadata": {
        "id": "v8_ftvNRU6-P"
      },
      "execution_count": null,
      "outputs": []
    },
    {
      "cell_type": "markdown",
      "source": [
        "## **Print the Convertion History :**"
      ],
      "metadata": {
        "id": "yyYOf5nx6mui"
      }
    },
    {
      "cell_type": "code",
      "source": [
        "\n",
        "print(\"\\nConversation History:\")\n",
        "for message in store[session_id].messages:\n",
        "    print(f\"{message.type}: {message.content}\")"
      ],
      "metadata": {
        "id": "XBy2uUqxVcMM",
        "colab": {
          "base_uri": "https://localhost:8080/"
        },
        "outputId": "1580dd85-2c83-492d-c5d2-fa7bce5a2935"
      },
      "execution_count": 34,
      "outputs": [
        {
          "output_type": "stream",
          "name": "stdout",
          "text": [
            "\n",
            "Conversation History:\n"
          ]
        }
      ]
    }
  ]
}