{
  "nbformat": 4,
  "nbformat_minor": 0,
  "metadata": {
    "colab": {
      "provenance": []
    },
    "kernelspec": {
      "name": "python3",
      "display_name": "Python 3"
    },
    "language_info": {
      "name": "python"
    }
  },
  "cells": [
    {
      "cell_type": "markdown",
      "source": [
        "## **GIF Animation Generator using LangGraph and DALL-E**"
      ],
      "metadata": {
        "id": "FDoKaMAXOmAH"
      }
    },
    {
      "cell_type": "markdown",
      "source": [
        " - ## **overview :**\n",
        "\n",
        "  This project demonstrates the creation of a GIF animation generator that leverages the power of large language models (LLMs) and image generation AI. By combining LangGraph for workflow management, GPT-4 for text generation, and DALL-E for image creation, we've developed a system that can produce custom GIF animations based on user prompts.\n",
        "##Motivation :\n",
        "   In the era of AI-driven content creation, there's a growing demand for tools that can automate and simplify complex creative processes. This project aims to showcase how various AI technologies can be integrated to create a seamless workflow that transforms a simple text prompt into a dynamic visual story. By doing so, we're exploring the potential of AI in creative fields and providing a tool that could be valuable for content creators, educators, and enthusiasts alike.\n",
        "\n",
        "## **Key Components**\n",
        "1. LangGraph: Orchestrates the overall workflow, managing the flow of data between different stages of the process.\n",
        "2. GPT-4 (via LangChain): Generates detailed descriptions, plots, and image prompts based on the initial user query.\n",
        "3. DALL-E 3: Creates high-quality images based on the generated prompts.\n",
        "Python Imaging Library (PIL): Assembles the individual images into a GIF animation.\n",
        "4. Asynchronous Programming: Utilizes asyncio and aiohttp for efficient parallel processing of image generation and retrieval."
      ],
      "metadata": {
        "id": "E7XfLOgcOzum"
      }
    },
    {
      "cell_type": "markdown",
      "source": [
        "# **Methed :**\n",
        "The GIF generation process follows these high-level steps:\n",
        "\n",
        "1. Character/Scene Description: Based on the user's input query, the system generates a detailed description of the main character or scene.\n",
        "\n",
        "2. Plot Generation: Using the character description and initial query, a 5-step plot is created, outlining the progression of the animation.\n",
        "\n",
        "3. Image Prompt Creation: For each step of the plot, a specific image prompt is generated, ensuring consistency across the frames.\n",
        "\n",
        "4. Image Generation: DALL-E 3 is used to create images based on each prompt.\n",
        "\n",
        "5. GIF Assembly: The generated images are compiled into a GIF animation."
      ],
      "metadata": {
        "id": "QxeA25iMP8GK"
      }
    },
    {
      "cell_type": "markdown",
      "source": [
        "## Setup and Imports  "
      ],
      "metadata": {
        "id": "suSCzW3ORyXK"
      }
    },
    {
      "cell_type": "code",
      "source": [
        "!pip install langchain langchain_community langgraph langchain_openai openai"
      ],
      "metadata": {
        "id": "4eTXnZS4P63B"
      },
      "execution_count": null,
      "outputs": []
    },
    {
      "cell_type": "code",
      "execution_count": 44,
      "metadata": {
        "id": "FwXKmDuOOhEY"
      },
      "outputs": [],
      "source": [
        "import os\n",
        "from typing import TypedDict , Annotated , Sequence, List\n",
        "from langgraph.graph import Graph , END\n",
        "from langchain_openai import ChatOpenAI\n",
        "from langchain_core.messages import HumanMessage , AIMessage\n",
        "from openai import OpenAI\n",
        "from PIL import Image\n",
        "import io\n",
        "from IPython.display import display  , Image as IPImage\n",
        "\n",
        "from langchain_core.runnables.graph import MermaidDrawMethod\n",
        "\n",
        "import asyncio\n",
        "import aiohttp\n",
        "from dotenv import load_dotenv\n",
        " #Load environment variables\n",
        "load_dotenv()\n",
        "# Set OpenAI API key\n",
        "from google.colab import  userdata\n",
        "os.environ['OPENAI_API_KEY'] = userdata.get('open_ai_api')\n",
        "\n",
        "client = OpenAI()"
      ]
    },
    {
      "cell_type": "code",
      "source": [
        "!pip install google-generativeai"
      ],
      "metadata": {
        "id": "kR3-DrjYVYy8"
      },
      "execution_count": null,
      "outputs": []
    },
    {
      "cell_type": "code",
      "source": [
        "import google.generativeai as genai\n",
        "llm = ChatOpenAI(model_name=\"gpt-4\")\n",
        "api = userdata.get('gemini_api')\n",
        "genai.configure(api_key=api)\n",
        "model = genai.GenerativeModel(\"gemini-pro\")\n"
      ],
      "metadata": {
        "id": "MwlONc5oTqpJ"
      },
      "execution_count": 50,
      "outputs": []
    },
    {
      "cell_type": "markdown",
      "source": [
        "## Define Data Structures"
      ],
      "metadata": {
        "id": "-jOzLyp2Wlvy"
      }
    },
    {
      "cell_type": "code",
      "source": [
        "class GraphState(TypedDict) :\n",
        "    messages: Annotated[Sequence[HumanMessage | AIMessage], \"The messages in the conversation\"]\n",
        "    query:  Annotated[str, \"Input query describing the character and scene\"]\n",
        "    plot : Annotated [ str  , \"Generated plot for the GIF\" ]\n",
        "    character_description : Annotated [ str  , \"Generated character description for the GIF\" ]\n",
        "    image_prompts: Annotated[List[str], \"List of prompts for each frame\"]\n",
        "    image_url : Annotated[List[str]  , \"URL of the generated image\" ]\n",
        "    gif_data : Annotated[bytes  , \"GIF data in bytes\" ]"
      ],
      "metadata": {
        "id": "y1ZpOew7WTW-"
      },
      "execution_count": 52,
      "outputs": []
    },
    {
      "cell_type": "markdown",
      "source": [
        "## Define Graph Functions"
      ],
      "metadata": {
        "id": "ye5EgQY-2fnx"
      }
    },
    {
      "cell_type": "code",
      "source": [
        "async def get_images_data(session , url :str) :\n",
        "  \"\"\"Fetch the image data from the URL\"\"\"\n",
        "  async with session.get(url) as response :\n",
        "    if response.status == 200 :\n",
        "      return await response.read()\n",
        "  return None\n",
        "\n",
        "\n",
        "\n",
        "def generate_character_description(state:  GraphState) :\n",
        "      \"\"\"Generate character description for the GIF\"\"\"\n",
        "      query = state[\"query\"]\n",
        "      response = model.generate_content(f\"Based on the query '{query}', create a detailed description of the main character, object, or scene. Include specific details about appearance, characteristics, and any unique features. This description will be used to maintain consistency across multiple images.\")\n",
        "      state[\"character_description\"] = response.text\n",
        "      return state\n",
        "def generate_plot(state:  GraphState) :\n",
        "    \"\"\" Generate a 5-step plot for the GIF\"\"\"\n",
        "    query = state[\"query\"]\n",
        "    character_description = state[\"character_description\"]\n",
        "    response=  model.generate_content(f\"Based on the query '{query}', create a 5-step plot for the character. This plot will be used to maintain consistency across multiple images.\")\n",
        "    state[\"plot\"] = response.text\n",
        "    return state\n",
        "\n",
        "def generate_image_prompt(state:  GraphState) :\n",
        "    \"\"\"Generate image prompt for the GIF\"\"\"\n",
        "    plot = state[\"plot\"]\n",
        "    character_description = state[\"character_description\"]\n",
        "    response = model.generate_content(f\"\"\"Based on this plot: '{plot}' and featuring this description: {character_description}, generate 5 specific, family-friendly image prompts, one for each step.\n",
        "     Each prompt should be detailed enough for image generation, maintaining consistency, and suitable for DALL-E.\n",
        "     Always include the following in EVERY prompt to maintain consistency:\n",
        "     1. A brief reminder of the main character or object's key features\n",
        "     2. The specific action or scene described in the plot step\n",
        "     3. Any relevant background or environmental details\n",
        "\n",
        "     Format each prompt as a numbered list item, like this:\n",
        "     1. [Your prompt here]\n",
        "     2. [Your prompt here]\n",
        "     ... and so on. \"\"\")\n",
        "    prompts = []\n",
        "    for line in response.text.split(\"\\n\") :\n",
        "           if line.strip().startswith(('1.', '2.', '3.', '4.', '5.')):\n",
        "            prompts.append(line.strip())\n",
        "    if len(prompts) != 5 :\n",
        "        raise ValueError(f\"Expected 5 prompts, but got {len(prompts)}\")\n",
        "    state[\"image_prompts\"] = prompts\n",
        "    return state\n",
        "\n",
        "async def create_image(prompt: str, retries: int = 3):\n",
        "    \"\"\"Generate an image using DALL-E based on the given prompt.\"\"\"\n",
        "    for attempt in range(retries):\n",
        "        try:\n",
        "            response = await asyncio.to_thread(\n",
        "                client.images.generate,\n",
        "                model=\"dall-e-3\",\n",
        "                prompt=prompt,\n",
        "                size=\"1024x1024\",\n",
        "                quality=\"standard\",\n",
        "                n=1,\n",
        "            )\n",
        "            return response.data[0].url\n",
        "        except Exception as e:\n",
        "            if attempt == retries - 1:\n",
        "                print(f\"Failed to generate image for prompt: {prompt}\")\n",
        "                print(f\"Error: {str(e)}\")\n",
        "                return None\n",
        "            await asyncio.sleep(2)\n",
        "\n",
        "async def create_images(state:  GraphState) :\n",
        "    \"\"\"Generate images for all prompts in parallel.\"\"\"\n",
        "    image_prompts = state[\"image_prompts\"]\n",
        "    tasks = [create_image(prompt) for prompt in image_prompts]\n",
        "    image_urls = await asyncio.gather(*tasks)\n",
        "    state[\"image_urls\"] = image_urls\n",
        "    return state\n",
        "\n",
        "async def create_gif(state: GraphState) -> GraphState:\n",
        "    \"\"\"Create a GIF from the generated images.\"\"\"\n",
        "    image_urls = state[\"image_urls\"]\n",
        "    images = []\n",
        "    async with aiohttp.ClientSession() as session:\n",
        "        tasks = [get_image_data(session, url) for url in image_urls if url]\n",
        "        image_data_list = await asyncio.gather(*tasks)\n",
        "\n",
        "    for img_data in image_data_list:\n",
        "        if img_data:\n",
        "            images.append(Image.open(io.BytesIO(img_data)))\n",
        "\n",
        "    if images:\n",
        "        gif_buffer = io.BytesIO()\n",
        "        images[0].save(gif_buffer, format='GIF', save_all=True, append_images=images[1:], duration=1000, loop=0)\n",
        "        state[\"gif_data\"] = gif_buffer.getvalue()\n",
        "    else:\n",
        "        state[\"gif_data\"] = None\n",
        "    return state"
      ],
      "metadata": {
        "id": "A_yffesWYcL5"
      },
      "execution_count": 83,
      "outputs": []
    },
    {
      "cell_type": "markdown",
      "source": [
        "## Set Up Langgraph Workflow  "
      ],
      "metadata": {
        "id": "XIHHP-WWMWed"
      }
    },
    {
      "cell_type": "code",
      "source": [
        "workflow =  Graph()\n",
        "workflow.add_node(\"generate_character_description\" , generate_character_description)\n",
        "workflow.add_node(\"generate_plot\" , generate_plot)\n",
        "workflow.add_node(\"generate_image_prompt\" , generate_image_prompt)\n",
        "workflow.add_node(\"create_images\" , create_images)\n",
        "workflow.add_node(\"create_gif\" , create_gif)\n",
        "\n",
        "workflow.add_edge(\"generate_character_description\" , \"generate_plot\" )\n",
        "workflow.add_edge(\"generate_plot\" , \"generate_image_prompt\" )\n",
        "workflow.add_edge(\"generate_image_prompt\" , \"create_images\" )\n",
        "workflow.add_edge(\"create_images\" , \"create_gif\" )\n",
        "workflow.add_edge(\"create_gif\" , END )\n",
        "workflow.set_entry_point(\"generate_character_description\")\n",
        "\n",
        "app = workflow.compile()"
      ],
      "metadata": {
        "id": "NIoRK0bwExU5"
      },
      "execution_count": 84,
      "outputs": []
    },
    {
      "cell_type": "markdown",
      "source": [
        "## Display Graph Structure\n"
      ],
      "metadata": {
        "id": "LBqv1VopOs_B"
      }
    },
    {
      "cell_type": "code",
      "source": [
        "\n",
        "display(\n",
        "    IPImage(\n",
        "        app.get_graph().draw_mermaid_png(\n",
        "            draw_method=MermaidDrawMethod.API,\n",
        "        )\n",
        "    )\n",
        ")"
      ],
      "metadata": {
        "colab": {
          "base_uri": "https://localhost:8080/",
          "height": 647
        },
        "id": "VHOVUIfkOe8g",
        "outputId": "aeb0a042-4c53-48bf-bdff-ad3f18403925"
      },
      "execution_count": 87,
      "outputs": [
        {
          "output_type": "display_data",
          "data": {
            "image/jpeg": "[encoded data removed]",
            "text/plain": [
              "<IPython.core.display.Image object>"
            ]
          },
          "metadata": {}
        }
      ]
    },
    {
      "cell_type": "markdown",
      "source": [
        "## Run Workflow Function\n"
      ],
      "metadata": {
        "id": "vknH24JPO88i"
      }
    },
    {
      "cell_type": "code",
      "source": [
        "# Run Workflow Function\n",
        "# Define a function to run the workflow and display results.\n",
        "\n",
        "async def run_workflow(query: str):\n",
        "    \"\"\"Run the LangGraph workflow and display results.\"\"\"\n",
        "    initial_state = {\n",
        "        \"messages\": [],\n",
        "        \"query\": query,\n",
        "        \"plot\": \"\",\n",
        "        \"character_description\": \"\",\n",
        "        \"image_prompts\": [],\n",
        "        \"image_urls\": [],\n",
        "        \"gif_data\": None\n",
        "    }\n",
        "\n",
        "    try:\n",
        "        result = await app.ainvoke(initial_state)\n",
        "\n",
        "        print(\"Character/Scene Description:\")\n",
        "        print(result[\"character_description\"])\n",
        "\n",
        "        print(\"\\nGenerated Plot:\")\n",
        "        print(result[\"plot\"])\n",
        "\n",
        "        print(\"\\nImage Prompts:\")\n",
        "        for i, prompt in enumerate(result[\"image_prompts\"], 1):\n",
        "            print(f\"{i}. {prompt}\")\n",
        "\n",
        "        print(\"\\nGenerated Image URLs:\")\n",
        "        for i, url in enumerate(result[\"image_urls\"], 1):\n",
        "            print(f\"{i}. {url}\")\n",
        "\n",
        "        if result[\"gif_data\"]:\n",
        "            print(\"\\nGIF generated successfully. Use the next cell to display or save it.\")\n",
        "        else:\n",
        "            print(\"\\nFailed to generate GIF.\")\n",
        "\n",
        "        return result\n",
        "    except Exception as e:\n",
        "        print(f\"An error occurred: {str(e)}\")\n",
        "        return None"
      ],
      "metadata": {
        "id": "Um-c7meVOxEi"
      },
      "execution_count": 88,
      "outputs": []
    },
    {
      "cell_type": "markdown",
      "source": [
        "## Execute Workflow\n"
      ],
      "metadata": {
        "id": "nnSlXLPQRUEa"
      }
    },
    {
      "cell_type": "code",
      "source": [
        "query = \"A cat wearing a top hat and monocle, sitting at a desk and writing a letter with a quill pen.\"\n",
        "result = await run_workflow(query)\n"
      ],
      "metadata": {
        "colab": {
          "base_uri": "https://localhost:8080/",
          "height": 1000
        },
        "id": "K-ChRaIPROUw",
        "outputId": "9f9e557f-17f5-4c46-95ec-4358c3d46257"
      },
      "execution_count": 89,
      "outputs": [
        {
          "output_type": "stream",
          "name": "stdout",
          "text": [
            "Failed to generate image for prompt: 1. **Sir Whiskerton, the sophisticated cat with his black fur, emerald eyes, and monocle, sits at an antique desk in an elegant study, writing a letter with a quill pen.**\n",
            "Error: Error code: 400 - {'error': {'code': 'billing_hard_limit_reached', 'message': 'Billing hard limit has been reached', 'param': None, 'type': 'invalid_request_error'}}\n",
            "Failed to generate image for prompt: 5. **Sir Whiskerton stands triumphant, hailed as a hero for his wit and bravery, his image etched in history as a revered feline gentleman.**\n",
            "Error: Error code: 400 - {'error': {'code': 'billing_hard_limit_reached', 'message': 'Billing hard limit has been reached', 'param': None, 'type': 'invalid_request_error'}}\n",
            "Failed to generate image for prompt: 2. **Sir Whiskerton's eyes widen as he intently reads a mysterious letter, its contents sparking curiosity and a thirst for adventure.**\n",
            "Error: Error code: 400 - {'error': {'code': 'billing_hard_limit_reached', 'message': 'Billing hard limit has been reached', 'param': None, 'type': 'invalid_request_error'}}\n",
            "Failed to generate image for prompt: 3. **Sir Whiskerton, amidst a backdrop of towering bookshelves and a plush Persian rug, follows enigmatic clues, unraveling secrets hidden within the letter.**\n",
            "Error: Error code: 400 - {'error': {'code': 'billing_hard_limit_reached', 'message': 'Billing hard limit has been reached', 'param': None, 'type': 'invalid_request_error'}}\n",
            "Failed to generate image for prompt: 4. **In a dramatic confrontation, Sir Whiskerton unveils the truth hidden in the letter, revealing the concealed intentions of a shadowy figure.**\n",
            "Error: Error code: 400 - {'error': {'code': 'billing_hard_limit_reached', 'message': 'Billing hard limit has been reached', 'param': None, 'type': 'invalid_request_error'}}\n",
            "Character/Scene Description:\n",
            "**Cat:**\n",
            "\n",
            "* **Appearance:**\n",
            "    * Long, flowing black fur\n",
            "    * Large, emerald-green eyes\n",
            "    * White bib and paws\n",
            "    * Pointed ears\n",
            "* **Characteristics:**\n",
            "    * Dignified and intelligent expression\n",
            "    * Slight smile\n",
            "    * Air of authority\n",
            "* **Unique Features:**\n",
            "    * Top hat, adorned with a feather\n",
            "    * Monocle, perched on the right eye\n",
            "\n",
            "**Object:**\n",
            "\n",
            "* **Desk:**\n",
            "    * Antique style, made of dark wood\n",
            "    * Large and elegant, with intricate carvings\n",
            "    * Covered in books, papers, and inkwells\n",
            "* **Quill Pen:**\n",
            "    * Long, goose feather quill\n",
            "    * Intricately carved handle made of ivory\n",
            "    * Dipped in a ceramic inkwell filled with black ink\n",
            "\n",
            "**Scene:**\n",
            "\n",
            "* The cat sits at the desk, facing the viewer.\n",
            "* The desk is situated in an opulent study, with high ceilings and large windows.\n",
            "* Bookshelves line the walls, filled with leather-bound volumes.\n",
            "* A Persian rug covers the floor.\n",
            "* The air is thick with the scent of parchment and ink.\n",
            "\n",
            "Generated Plot:\n",
            "**Step 1: Introduction**\n",
            "\n",
            "* The cat, named Sir Whiskerton, is introduced as a distinguished gentleman, sitting at his desk and writing a letter with a quill pen. He is dressed in a top hat and monocle, giving him an air of elegance and intelligence.\n",
            "\n",
            "**Step 2: The Mysterious Letter**\n",
            "\n",
            "* Sir Whiskerton receives a mysterious letter that sparks his curiosity and sets him on a journey to uncover the truth behind its contents. The letter contains cryptic messages and intriguing clues that lead him down unexpected paths.\n",
            "\n",
            "**Step 3: Adventure and Discovery**\n",
            "\n",
            "* As Sir Whiskerton follows the clues, he embarks on an adventure filled with challenges and discoveries. He encounters peculiar characters, solves puzzles, and unravels the secrets hidden within the letter.\n",
            "\n",
            "**Step 4: Unmasking the Truth**\n",
            "\n",
            "* With his sharp mind and unwavering determination, Sir Whiskerton finally unmasks the truth behind the mysterious letter. He confronts the person responsible and brings their actions to light, exposing the hidden agenda that has been concealed.\n",
            "\n",
            "**Step 5: Resolution and Triumph**\n",
            "\n",
            "* In a climactic twist, Sir Whiskerton uses his wit and resourcefulness to resolve the conflict and restore order. He emerges as a triumphant hero, hailed for his bravery and intelligence, cementing his legacy as a respected and admired feline gentleman.\n",
            "\n",
            "Image Prompts:\n",
            "1. 1. **Sir Whiskerton, the sophisticated cat with his black fur, emerald eyes, and monocle, sits at an antique desk in an elegant study, writing a letter with a quill pen.**\n",
            "2. 2. **Sir Whiskerton's eyes widen as he intently reads a mysterious letter, its contents sparking curiosity and a thirst for adventure.**\n",
            "3. 3. **Sir Whiskerton, amidst a backdrop of towering bookshelves and a plush Persian rug, follows enigmatic clues, unraveling secrets hidden within the letter.**\n",
            "4. 4. **In a dramatic confrontation, Sir Whiskerton unveils the truth hidden in the letter, revealing the concealed intentions of a shadowy figure.**\n",
            "5. 5. **Sir Whiskerton stands triumphant, hailed as a hero for his wit and bravery, his image etched in history as a revered feline gentleman.**\n",
            "\n",
            "Generated Image URLs:\n",
            "1. None\n",
            "2. None\n",
            "3. None\n",
            "4. None\n",
            "5. None\n",
            "\n",
            "Failed to generate GIF.\n"
          ]
        }
      ]
    },
    {
      "cell_type": "code",
      "source": [],
      "metadata": {
        "id": "xmncFlCJRXiz"
      },
      "execution_count": null,
      "outputs": []
    }
  ]
}