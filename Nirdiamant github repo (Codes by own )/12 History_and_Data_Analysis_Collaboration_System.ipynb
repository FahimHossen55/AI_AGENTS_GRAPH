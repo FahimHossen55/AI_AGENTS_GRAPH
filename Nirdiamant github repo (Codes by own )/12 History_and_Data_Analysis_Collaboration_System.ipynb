{
  "nbformat": 4,
  "nbformat_minor": 0,
  "metadata": {
    "colab": {
      "provenance": []
    },
    "kernelspec": {
      "name": "python3",
      "display_name": "Python 3"
    },
    "language_info": {
      "name": "python"
    }
  },
  "cells": [
    {
      "cell_type": "markdown",
      "source": [
        "## **History and Data Analysis Collaboration System**  \n",
        "## Overview\n",
        " Here we will implements a multi-agent collaboration system that combines historical research with data analysis to answer complex historical questions. it leverages the power of large language models to simulate specialized agents working together to provide comprehensive answers.\n",
        "\n",
        " ## Motivation\n",
        " Historical analysis often requires both deep contextual understanding and quantitative data interpretation. By creating a system that combines these two aspects, we aim to provide more robust and insightful answers to complex historical questions. This approach mimics real-world collaboration between historians and data analysts, potentially leading to more nuanced and data-driven historical insights.\n",
        "\n",
        "## Key Components\n",
        "\n",
        "1. **Agent Class:** A base class for creating specialized AI agents.\n",
        "2. **HistoryResearchAgent:** Specialized in historical context and trends.\n",
        "3. **DataAnalysisAgent:**  Focused on interpreting numerical data and statistics.\n",
        "4. **HistoryDataCollaborationSystem:**   Orchestrates the collaboration between agents.\n",
        "\n",
        "## Method Details\n",
        "\n",
        "The collaboration system follows these steps:\n",
        "1. **Historical  Context:** The History Agent provides relevant historical background.\n",
        "2. **Data Needs Identification:** The Data Agent determines what quantitative information is needed.\n",
        "3. **Historical Data Provision:** The History Agent supplies relevant historical data.\n",
        "4. **Data Analysis:** The Data Agent interprets the provided historical data.\n",
        "5. **Final Synthesis:** The History Agent combines all insights into a comprehensive answer\n",
        "\n",
        "This iterative process allows for a back-and-forth between historical context and data analysis, mimicking real-world collaborative research.\n",
        "\n",
        "## Conclusion\n",
        "The History and Data Analysis Collaboration System demonstrates the potential of multi-agent AI systems in tackling complex, interdisciplinary questions. By combining the strengths of historical research and data analysis, it offers a novel approach to understanding historical trends and events. This system could be valuable for researchers, educators, and anyone interested in gaining deeper insights into historical topics.\n",
        "\n",
        "\n",
        "Future improvements could include adding more specialized agents, incorporating external data sources, and refining the collaboration process for even more nuanced analyses."
      ],
      "metadata": {
        "id": "BWviYctiq6IR"
      }
    },
    {
      "cell_type": "markdown",
      "source": [
        "## Import required libraries  \n",
        "\n",
        "\n"
      ],
      "metadata": {
        "id": "SacSKLrNtKTk"
      }
    },
    {
      "cell_type": "code",
      "execution_count": null,
      "metadata": {
        "id": "l6Qq3JMKqU93"
      },
      "outputs": [],
      "source": [
        "!pip install langchain langchain_community langgraph google-generativeai"
      ]
    },
    {
      "cell_type": "code",
      "source": [
        "import os\n",
        "import time\n",
        "from langchain.schema import HumanMessage , SystemMessage , AIMessage\n",
        "from typing import List , Dict\n",
        "from dotenv import load_dotenv\n",
        "\n",
        "load_dotenv()\n",
        "\n",
        "from google.colab import userdata\n",
        "os.environ[\"GOOGLE_API_KEY\"] = userdata.get('gemini_api')\n",
        "import google.generativeai as genai\n",
        "llm =  genai.GenerativeModel(\"gemini-pro\")\n"
      ],
      "metadata": {
        "id": "hhG-BieVtc0s"
      },
      "execution_count": 4,
      "outputs": []
    },
    {
      "cell_type": "markdown",
      "source": [
        "## Define the base Agent class  \n"
      ],
      "metadata": {
        "id": "-PAjcx6RvCp4"
      }
    },
    {
      "cell_type": "code",
      "source": [
        "class Agent:\n",
        "    def __init__(self, name: str, role: str, skills: List[str]):\n",
        "        self.name = name\n",
        "        self.role = role\n",
        "        self.skills = skills\n",
        "        self.llm = llm\n",
        "\n",
        "    def process(self, task: str, context: List[Dict] = None) -> str:\n",
        "        messages = [\n",
        "            SystemMessage(content=f\"You are {self.name}, a {self.role}. Your skills include: {', '.join(self.skills)}. Respond to the task based on your role and skills.\")\n",
        "        ]\n",
        "\n",
        "        if context:\n",
        "            for msg in context:\n",
        "                if msg['role'] == 'human':\n",
        "                    messages.append(HumanMessage(content=msg['content']))\n",
        "                elif msg['role'] == 'ai':\n",
        "                    messages.append(AIMessage(content=msg['content']))\n",
        "\n",
        "        messages.append(HumanMessage(content=task))\n",
        "        response = self.llm.generate_content(messages)\n",
        "        return response.text"
      ],
      "metadata": {
        "id": "TS5EQk8bu3ji"
      },
      "execution_count": 21,
      "outputs": []
    },
    {
      "cell_type": "markdown",
      "source": [
        "## Define Specilized agents: HistoricalResearchAgent and DataAnalysisAgent\n"
      ],
      "metadata": {
        "id": "oXylyk9vzh72"
      }
    },
    {
      "cell_type": "code",
      "source": [
        "class HistoryResearchAgent(Agent):\n",
        "    def __init__(self):\n",
        "        super().__init__(\"Clio\", \"History Research Specialist\", [\"deep knowledge of historical events\", \"understanding of historical contexts\", \"identifying historical trends\"])\n",
        "\n",
        "class DataAnalysisAgent(Agent):\n",
        "    def __init__(self):\n",
        "        super().__init__(\"Data\", \"Data Analysis Expert\", [\"interpreting numerical data\", \"statistical analysis\", \"data visualization description\"])"
      ],
      "metadata": {
        "id": "BJBgxBCpzOs1"
      },
      "execution_count": 22,
      "outputs": []
    },
    {
      "cell_type": "markdown",
      "source": [
        "## Define the different functions for the collaboration system\n"
      ],
      "metadata": {
        "id": "x7bZKgKD3Bso"
      }
    },
    {
      "cell_type": "markdown",
      "source": [
        "## Researh Historical Context"
      ],
      "metadata": {
        "id": "2x2L0Y-Z3gA6"
      }
    },
    {
      "cell_type": "code",
      "source": [
        "def research_historical_context(history_agent, task: str, context: list) -> list:\n",
        "    print(\"🏛️ History Agent: Researching historical context...\")\n",
        "    history_task = f\"Provide relevant historical context and information for the following task: {task}\"\n",
        "    history_result = history_agent.process(history_task)\n",
        "    context.append({\"role\": \"ai\", \"content\": f\"History Agent: {history_result}\"})\n",
        "    print(f\"📜 Historical context provided: {history_result[:100]}...\\n\")\n",
        "    return context"
      ],
      "metadata": {
        "id": "AYS_lprf2hUb"
      },
      "execution_count": 23,
      "outputs": []
    },
    {
      "cell_type": "markdown",
      "source": [
        "## identify data needs"
      ],
      "metadata": {
        "id": "Rs3bTNhy4qrf"
      }
    },
    {
      "cell_type": "code",
      "source": [
        "def identify_data_needs(data_agent, task: str, context: list) -> list:\n",
        "    print(\"📊 Data Agent: Identifying data needs based on historical context...\")\n",
        "    historical_context = context[-1][\"content\"]\n",
        "    data_need_task = f\"Based on the historical context, what specific data or statistical information would be helpful to answer the original question? Historical context: {historical_context}\"\n",
        "    data_need_result = data_agent.process(data_need_task, context)\n",
        "    context.append({\"role\": \"ai\", \"content\": f\"Data Agent: {data_need_result}\"})\n",
        "    print(f\"🔍 Data needs identified: {data_need_result[:100]}...\\n\")\n",
        "    return context"
      ],
      "metadata": {
        "id": "Zx8ppuOB4lQ5"
      },
      "execution_count": 24,
      "outputs": []
    },
    {
      "cell_type": "markdown",
      "source": [
        "## Provide Historical Data\n"
      ],
      "metadata": {
        "id": "_gq5B_2P5cgZ"
      }
    },
    {
      "cell_type": "code",
      "source": [
        "def provide_historical_data(history_agent, task: str, context: list) -> list:\n",
        "    print(\" History Agent: Providing relevant historical data...\")\n",
        "    data_needs = context[-1][\"content\"]\n",
        "    data_provision_task = f\"Based on the data needs identified, provide relevant historical data or statistics. Data needs: {data_needs}\"\n",
        "    data_provision_result = history_agent.process(data_provision_task, context)\n",
        "    context.append({\"role\": \"ai\", \"content\": f\"History Agent: {data_provision_result}\"})\n",
        "    print(f\"📊 Historical data provided: {data_provision_result[:100]}...\\n\")\n",
        "    return context"
      ],
      "metadata": {
        "id": "8imUPRGf4_f_"
      },
      "execution_count": 25,
      "outputs": []
    },
    {
      "cell_type": "markdown",
      "source": [
        "### Analyze Data"
      ],
      "metadata": {
        "id": "9rc20ZBb597o"
      }
    },
    {
      "cell_type": "code",
      "source": [
        "def analyze_data(data_agent, task: str, context: list) -> list:\n",
        "    print(\"Data Agent: Analyzing historical data...\")\n",
        "    historical_data = context[-1][\"content\"]\n",
        "    analysis_task = f\"Analyze the historical data provided and describe any trends or insights relevant to the original task. Historical data: {historical_data}\"\n",
        "    analysis_result = data_agent.process(analysis_task, context)\n",
        "    context.append({\"role\": \"ai\", \"content\": f\"Data Agent: {analysis_result}\"})\n",
        "    print(f\"💡 Data analysis results: {analysis_result[:100]}...\\n\")\n",
        "    return context"
      ],
      "metadata": {
        "id": "dLuL4NRt5xMo"
      },
      "execution_count": 26,
      "outputs": []
    },
    {
      "cell_type": "markdown",
      "source": [
        "## Synthesize Final Answer"
      ],
      "metadata": {
        "id": "H3L4ENGO6Ceo"
      }
    },
    {
      "cell_type": "code",
      "source": [
        "def synthesize_final_answer(history_agent, task: str, context: list) -> str:\n",
        "    print(\" History Agent: Synthesizing final answer...\")\n",
        "    synthesis_task = \"Based on all the historical context, data, and analysis, provide a comprehensive answer to the original task.\"\n",
        "    final_result = history_agent.process(synthesis_task, context)\n",
        "    return final_result"
      ],
      "metadata": {
        "id": "ToBftm2350GR"
      },
      "execution_count": 27,
      "outputs": []
    },
    {
      "cell_type": "markdown",
      "source": [
        "### HistoryDataCollaborationSystem Class\n"
      ],
      "metadata": {
        "id": "ytOCDM0L6hhd"
      }
    },
    {
      "cell_type": "code",
      "source": [
        "class HistoryDataCollaborationSystem:\n",
        "    def __init__(self):\n",
        "        self.history_agent = Agent(\"Clio\", \"History Research Specialist\", [\"deep knowledge of historical events\", \"understanding of historical contexts\", \"identifying historical trends\"])\n",
        "        self.data_agent = Agent(\"Data\", \"Data Analysis Expert\", [\"interpreting numerical data\", \"statistical analysis\", \"data visualization description\"])\n",
        "\n",
        "    def solve(self, task: str, timeout: int = 300) -> str:\n",
        "        print(f\"\\n👥 Starting collaboration to solve: {task}\\n\")\n",
        "\n",
        "        start_time = time.time()\n",
        "        context = []\n",
        "\n",
        "        steps = [\n",
        "            (research_historical_context, self.history_agent),\n",
        "            (identify_data_needs, self.data_agent),\n",
        "            (provide_historical_data, self.history_agent),\n",
        "            (analyze_data, self.data_agent),\n",
        "            (synthesize_final_answer, self.history_agent)\n",
        "        ]\n",
        "\n",
        "        for step_func, agent in steps:\n",
        "            if time.time() - start_time > timeout:\n",
        "                return \"Operation timed out. The process took too long to complete.\"\n",
        "            try:\n",
        "                result = step_func(agent, task, context)\n",
        "                if isinstance(result, str):\n",
        "                    return result  # This is the final answer\n",
        "                context = result\n",
        "            except Exception as e:\n",
        "                return f\"Error during collaboration: {str(e)}\"\n",
        "\n",
        "        print(\"\\n✅ Collaboration complete. Final answer synthesized.\\n\")\n",
        "        return context[-1][\"content\"]"
      ],
      "metadata": {
        "id": "rWXlE-_L6eQm"
      },
      "execution_count": 28,
      "outputs": []
    },
    {
      "cell_type": "code",
      "source": [
        "collaboration_system = HistoryDataCollaborationSystem()\n",
        "question = \"How did urbanization rates in Europe compare to those in North America during the Industrial Revolution, and what were the main factors influencing these trends?\"\n",
        "\n",
        "result = collaboration_system.solve(question)\n",
        "print(result)"
      ],
      "metadata": {
        "colab": {
          "base_uri": "https://localhost:8080/"
        },
        "id": "dBq7__8h8E_D",
        "outputId": "4feb5c5f-4885-40ec-de91-732dce87ff38"
      },
      "execution_count": 29,
      "outputs": [
        {
          "output_type": "stream",
          "name": "stdout",
          "text": [
            "\n",
            "👥 Starting collaboration to solve: How did urbanization rates in Europe compare to those in North America during the Industrial Revolution, and what were the main factors influencing these trends?\n",
            "\n",
            "🏛️ History Agent: Researching historical context...\n",
            "Error during collaboration: Could not create `Blob`, expected `Blob`, `dict` or an `Image` type(`PIL.Image.Image` or `IPython.display.Image`).\n",
            "Got a: <class 'langchain_core.messages.system.SystemMessage'>\n",
            "Value: content='You are Clio, a History Research Specialist. Your skills include: deep knowledge of historical events, understanding of historical contexts, identifying historical trends. Respond to the task based on your role and skills.' additional_kwargs={} response_metadata={}\n"
          ]
        }
      ]
    },
    {
      "cell_type": "code",
      "source": [],
      "metadata": {
        "id": "RV02IIZc8Gsy"
      },
      "execution_count": 29,
      "outputs": []
    }
  ]
}