{
  "nbformat": 4,
  "nbformat_minor": 0,
  "metadata": {
    "colab": {
      "provenance": [],
      "gpuType": "T4"
    },
    "kernelspec": {
      "name": "python3",
      "display_name": "Python 3"
    },
    "language_info": {
      "name": "python"
    },
    "accelerator": "GPU"
  },
  "cells": [
    {
      "cell_type": "markdown",
      "source": [
        "# **Building an Intelligent Text-to-Speech Agent**"
      ],
      "metadata": {
        "id": "aAT3o39qUDRl"
      }
    },
    {
      "cell_type": "markdown",
      "source": [
        "## **Overview**\n",
        "This ai agent will guides me through the process of creating an advanced text-to-speech (TTS) agent using LangGraph and google's APIs. The agent can classify input text, process it based on its content type, and generate corresponding speech output.\n",
        "## **Motivations**  \n",
        "in the era of AI and natural language processing, there's a growing need for systems that can intelligently process and vocalize text. This project aims to create a versatile TTS agent that goes beyond simple text-to-speech conversion by understanding and adapting to different types of content.\n",
        "## **Key Components**\n",
        "1. Content Classification: Utilizes OpenAI's GPT models to categorize input text.\n",
        "2. Content Processing: Applies specific processing based on the content type (general, poem, news, or joke).\n",
        "3. Text-to-Speech Conversion: Leverages huggingface's TTS API to generate audio from processed text.\n",
        "4. LangGraph Workflow: Orchestrates the entire process using a state graph.\n",
        "\n",
        "## **Method**\n",
        "The TTS agent operates through the following high-level steps:\n",
        "\n",
        "1. Text Input: The system receives a text input from the user.\n",
        "2. Content Classification: The input is classified into one of four categories: general, poem, news, or joke.\n",
        "3. Content-Specific Processing: Based on the classification, the text undergoes specific processing:\n",
        " - General text remains unchanged\n",
        " - Poems are rewritten for enhanced poetic quality\n",
        " - News is reformatted into a formal news anchor style\n",
        " - Jokes are refined for humor\n",
        "4. Text-to-Speech Conversion: The processed text is converted to speech using an appropriate voice for its content type.\n",
        "5. Audio Output: The generated audio is either saved to a file or played directly, depending on user preferences.\n",
        "\n",
        "The entire workflow is managed by a LangGraph state machine, ensuring smooth transitions between different processing stages and maintaining context throughout the operation.\n",
        "\n",
        "## **Conclusion :**  \n",
        "\n",
        "This intelligent TTS agent demonstrates the power of combining language models for content understanding with speech synthesis technology. It offers a more nuanced and context-aware approach to text-to-speech conversion, opening up possibilities for more natural and engaging audio content generation across various applications, from content creation to accessibility solutions.\n",
        "\n",
        "\n",
        "By leveraging the strengths of GPT models for text processing and OpenAI's TTS capabilities, this project showcases how advanced AI technologies can be integrated to create sophisticated, multi-step language processing pipelines."
      ],
      "metadata": {
        "id": "Qhc0e_0kUN_N"
      }
    },
    {
      "cell_type": "markdown",
      "source": [
        "## **neccessary libraries and set up Environment**"
      ],
      "metadata": {
        "id": "fIHqpdrbY6U2"
      }
    },
    {
      "cell_type": "code",
      "execution_count": null,
      "metadata": {
        "id": "pFyJlVCsR6xw"
      },
      "outputs": [],
      "source": [
        "!pip install langchain langchain_community langgraph langchain_openai  google-generativeai\n"
      ]
    },
    {
      "cell_type": "code",
      "source": [
        "from typing import TypedDict\n",
        "from langgraph.graph import Graph , END  , StateGraph\n",
        "from IPython.display import display , Audio  , Markdown\n",
        "from openai import OpenAI\n",
        "from dotenv import load_dotenv\n",
        "import io\n",
        "import tempfile\n",
        "import re\n",
        "import os\n",
        "load_dotenv()\n",
        "from google.colab import userdata\n",
        "os.environ['OPENAI_API_KEY'] = userdata.get('open_ai_api')\n",
        "os.environ[\"GOOGLE_API_KEY\"] = userdata.get('gemini_api')\n"
      ],
      "metadata": {
        "id": "YUQOui5iZMeA"
      },
      "execution_count": 10,
      "outputs": []
    },
    {
      "cell_type": "markdown",
      "source": [
        "## initialize Models and Define State"
      ],
      "metadata": {
        "id": "H0_weJebbJkY"
      }
    },
    {
      "cell_type": "code",
      "source": [
        "client =  OpenAI()\n",
        "import google.generativeai as genai\n",
        "model = genai.GenerativeModel(\"gemini-pro\")\n"
      ],
      "metadata": {
        "id": "W1Sxcz_9a_5U"
      },
      "execution_count": 4,
      "outputs": []
    },
    {
      "cell_type": "code",
      "source": [
        "class AgentState(TypedDict):\n",
        "     input_text : str\n",
        "     processed_text : str\n",
        "     content_type : str\n",
        "     audio_data :  bytes\n",
        "     audio_path  :  str\n",
        ""
      ],
      "metadata": {
        "id": "RfOfeU8Jcetk"
      },
      "execution_count": 5,
      "outputs": []
    },
    {
      "cell_type": "markdown",
      "source": [
        "## **Define Node Functions**\n"
      ],
      "metadata": {
        "id": "JQbSSrxreDy4"
      }
    },
    {
      "cell_type": "code",
      "source": [
        "def classify_content(state : AgentState ) -> AgentState :\n",
        "    query =state[\"input_text\"]\n",
        "    response =  model.generate_content(f\"The given text is '{query}'. Classify the content as one of: 'general', 'poem', 'news', 'joke'.give me just type of content\")\n",
        "    state[\"content_type\"] =  response.text.strip()\n",
        "    return state\n",
        "\n",
        "def process_general(state: AgentState) -> AgentState:\n",
        "    \"\"\"Process general content (no specific processing, return as-is).\"\"\"\n",
        "    state[\"processed_text\"] = state[\"input_text\"]\n",
        "    return state\n",
        "\n",
        "def process_poem(state: AgentState) -> AgentState:\n",
        "    \"\"\"Process the input text as a poem, rewriting it in a poetic style.\"\"\"\n",
        "    response =  model.generate_content(f\"Rewrite the following text {state['input_text']} as a short, beautiful poem:\")\n",
        "    state[\"processed_text\"] = response.text.strip()\n",
        "    return state\n",
        "\n",
        "\n",
        "def process_news(state: AgentState) -> AgentState:\n",
        "    \"\"\"Process the input text as news, reformatting it into a formal news anchor style.\"\"\"\n",
        "    response =  model.generate_content(f\"Reformat the following text {state['input_text']} into a formal news anchor style:\")\n",
        "    state[\"processed_text\"] = response.text.strip()\n",
        "    return state\n",
        "\n",
        "def process_joke(state: AgentState) -> AgentState:\n",
        "    \"\"\"Process the input text as a joke, refining it for humor.\"\"\"\n",
        "    response =  model.generate_content(f\"Refine the following text {state['input_text']} for humor , a short funny jokes.\")\n",
        "    state[\"processed_text\"] = response.text.strip()\n",
        "    return state\n",
        "\n",
        "\n",
        "def text_to_speech(state: AgentState, save_file: bool = False) -> AgentState:\n",
        "    \"\"\"\n",
        "    Converts processed text into speech using a voice mapped to the content type.\n",
        "    Optionally saves the audio to a file.\n",
        "\n",
        "    Args:\n",
        "        state (AgentState): Dictionary containing the processed text and content type.\n",
        "        save_file (bool, optional): If True, saves the audio to a file. Defaults to False.\n",
        "\n",
        "    Returns:\n",
        "        AgentState: Updated state with audio data and file path (if saved).\n",
        "    \"\"\"\n",
        "    voice_map = {\n",
        "        \"general\": \"alloy\",\n",
        "        \"poem\": \"nova\",\n",
        "        \"news\": \"onyx\",\n",
        "        \"joke\": \"shimmer\"\n",
        "    }\n",
        "    voice = voice_map.get(state[\"content_type\"], \"alloy\")\n",
        "    audio_data = io.BytesIO()\n",
        "    with client.audio.speech.with_streaming_response.create(\n",
        "        model=\"tts-1\",\n",
        "        voice=voice,\n",
        "        input=state[\"processed_text\"]\n",
        "    ) as response:\n",
        "        for chunk in response.iter_bytes():\n",
        "            audio_data.write(chunk)\n",
        "\n",
        "    state[\"audio_data\"] = audio_data.getvalue()\n",
        "\n",
        "    # Save audio to a file if requested\n",
        "    if save_file:\n",
        "        with tempfile.NamedTemporaryFile(delete=False, suffix=\".mp3\") as temp_audio:\n",
        "            temp_audio.write(state[\"audio_data\"])\n",
        "            state[\"audio_path\"] = temp_audio.name\n",
        "    else:\n",
        "        state[\"audio_path\"] = \"\"\n",
        "\n",
        "    return state\n"
      ],
      "metadata": {
        "id": "amnfQorwd_ES"
      },
      "execution_count": 8,
      "outputs": []
    },
    {
      "cell_type": "markdown",
      "source": [
        "## **Define and Compile the Graph**"
      ],
      "metadata": {
        "id": "OEkhorEzquOh"
      }
    },
    {
      "cell_type": "code",
      "source": [
        "workflow =  StateGraph(AgentState)\n",
        "\n",
        "workflow.add_node(\"classify_content\" , classify_content)\n",
        "workflow.add_node(\"process_general\" , process_general)\n",
        "workflow.add_node(\"process_poem\" , process_poem)\n",
        "workflow.add_node(\"process_news\" , process_news)\n",
        "workflow.add_node(\"process_joke\" , process_joke)\n",
        "workflow.add_node(\"text_to_speech\" , text_to_speech)\n",
        "\n",
        "\n",
        "# set the entry\n",
        "\n",
        "workflow.set_entry_point(\"classify_content\")\n",
        "\n",
        "# Modify the targets to be strings instead of lists\n",
        "workflow.add_conditional_edges(\n",
        "    \"classify_content\",\n",
        "    lambda x :x[\"content_type\"],\n",
        "    {\n",
        "        \"general\": \"process_general\", # Changed from [\"process_general\"]\n",
        "        \"poem\": \"process_poem\",       # Changed from [\"process_poem\"]\n",
        "        \"news\": \"process_news\",       # Changed from [\"process_news\"]\n",
        "        \"joke\": \"process_joke\"        # Changed from [\"process_joke\"]\n",
        "    }\n",
        ")\n",
        "\n",
        "workflow.add_edge(\"process_general\", \"text_to_speech\")\n",
        "workflow.add_edge(\"process_poem\", \"text_to_speech\")\n",
        "workflow.add_edge(\"process_news\", \"text_to_speech\")\n",
        "workflow.add_edge(\"process_joke\", \"text_to_speech\")\n",
        "workflow.add_edge(\"text_to_speech\", END)\n",
        "# Compile the graph\n",
        "app = workflow.compile()"
      ],
      "metadata": {
        "id": "UX5kh3tDihIV"
      },
      "execution_count": 16,
      "outputs": []
    },
    {
      "cell_type": "code",
      "source": [
        "from langchain_core.runnables.graph import MermaidDrawMethod\n",
        "from IPython.display import display, Image\n",
        "display(\n",
        "    Image(\n",
        "        app.get_graph().draw_mermaid_png(\n",
        "            draw_method=MermaidDrawMethod.API,\n",
        "        )\n",
        "    )\n",
        ")"
      ],
      "metadata": {
        "colab": {
          "base_uri": "https://localhost:8080/",
          "height": 473
        },
        "id": "s8SHLpgSwMva",
        "outputId": "9e2696e4-ca65-46fa-b969-e36157cf8d3c"
      },
      "execution_count": 20,
      "outputs": [
        {
          "output_type": "display_data",
          "data": {
            "image/jpeg": "[encoded data removed]",
            "text/plain": [
              "<IPython.core.display.Image object>"
            ]
          },
          "metadata": {}
        }
      ]
    },
    {
      "cell_type": "markdown",
      "source": [
        "## Define Function to Run Agent and Play Audio and Test the Text-to-Speech Agent"
      ],
      "metadata": {
        "id": "9v-DVYt1xs7p"
      }
    },
    {
      "cell_type": "code",
      "source": [
        "import os\n",
        "import re\n",
        "import time\n",
        "from IPython.display import Audio, Markdown, display\n",
        "import openai  # Make sure you have the openai library installed\n",
        "\n",
        "def sanitize_filename(text, max_length=20):\n",
        "    \"\"\"Convert text to a valid and concise filename.\"\"\"\n",
        "    sanitized = re.sub(r'[^\\w\\s-]', '', text.lower())\n",
        "    sanitized = re.sub(r'[-\\s]+', '_', sanitized)\n",
        "    return sanitized[:max_length]\n",
        "\n",
        "def run_tts_agent_and_play(input_text: str, content_type: str, save_file: bool = True):\n",
        "    # Add a delay to avoid exceeding the rate limit\n",
        "    time.sleep(1)  # Adjust the delay as needed\n",
        "\n",
        "    result = app.invoke({\n",
        "        \"input_text\": input_text,\n",
        "        \"processed_text\": \"\",\n",
        "        \"audio_data\": b\"\",\n",
        "        \"audio_path\": \"\",\n",
        "        \"content_type\": content_type\n",
        "    })\n",
        "    print(f\"Detected content type: {result['content_type']}\")\n",
        "    print(f\"Processed text: {result['processed_text']}\")\n",
        "    display(Audio(result['audio_data'], autoplay=True))\n",
        "    if save_file:\n",
        "        # Create 'audio' directory in the parent folder of the notebook\n",
        "        audio_dir = os.path.join('..', 'audio')\n",
        "        os.makedirs(audio_dir, exist_ok=True)\n",
        "\n",
        "        sanitized_text = sanitize_filename(input_text)\n",
        "        file_name = f\"{content_type}_{sanitized_text}.mp3\"\n",
        "        file_path = os.path.join(audio_dir, file_name)\n",
        "\n",
        "        with open(file_path, \"wb\") as f:\n",
        "            f.write(result['audio_data'])\n",
        "\n",
        "        print(f\"Audio saved to: {file_path}\")\n",
        "\n",
        "        # Relative path for GitHub\n",
        "        github_relative_path = f\"../audio/{file_name}\"\n",
        "        display(Markdown(f\"[Download {content_type} audio: {sanitized_text}]({github_relative_path})\"))\n",
        "\n",
        "        # Note about GitHub limitations\n",
        "        print(\"Note: Audio playback is not supported directly on GitHub. Use the download link to listen to the audio.\")\n",
        "    else:\n",
        "        print(\"Audio not saved to file.\")\n",
        "\n",
        "    return result\n",
        "\n",
        "examples = {\n",
        "    \"general\": \"The quick brown fox jumps over the lazy dog.\",\n",
        "    \"poem\": \"Roses are red, violets are blue, AI is amazing, and so are you!\",\n",
        "    \"news\": \"Breaking news: Scientists discover a new species of deep-sea creature in the Mariana Trench.\",\n",
        "    \"joke\": \"Why don't scientists trust atoms? Because they make up everything!\"\n",
        "}\n",
        "\n",
        "for content_type, example in examples.items():\n",
        "    result = run_tts_agent_and_play(example, content_type, save_file=True)\n",
        "    print(\"--\" * 20)"
      ],
      "metadata": {
        "id": "AcffH-pjwjWd"
      },
      "execution_count": null,
      "outputs": []
    },
    {
      "cell_type": "code",
      "source": [],
      "metadata": {
        "id": "iJcrkj6byray"
      },
      "execution_count": null,
      "outputs": []
    }
  ]
}